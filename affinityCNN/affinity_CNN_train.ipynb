{
  "nbformat": 4,
  "nbformat_minor": 0,
  "metadata": {
    "colab": {
      "name": "PharmaceuticAI Affinity CNN Tensorflow 2.0",
      "provenance": [],
      "collapsed_sections": []
    },
    "kernelspec": {
      "name": "python3",
      "display_name": "Python 3"
    },
    "accelerator": "GPU"
  },
  "cells": [
    {
      "cell_type": "markdown",
      "metadata": {
        "id": "B1iZN6qgSmR8"
      },
      "source": [
        "## Imports"
      ]
    },
    {
      "cell_type": "code",
      "metadata": {
        "id": "mxvS1JQAHfOR"
      },
      "source": [
        "import pandas as pd\n",
        "from collections import Counter\n",
        "import matplotlib.pyplot as plt\n",
        "import tensorflow as tf\n",
        "from tensorflow import keras\n",
        "from tensorflow.keras.models import Model\n",
        "from tensorflow.keras import layers\n",
        "from tensorflow.keras.callbacks import EarlyStopping, ModelCheckpoint\n",
        "from tensorflow.keras.utils import multi_gpu_model\n",
        "from tensorflow.keras.losses import mean_squared_error\n",
        "from tensorflow.keras import backend as K\n",
        "import numpy as np\n",
        "from google.colab import files"
      ],
      "execution_count": null,
      "outputs": []
    },
    {
      "cell_type": "code",
      "metadata": {
        "id": "nnFzO72LLCkb",
        "colab": {
          "base_uri": "https://localhost:8080/",
          "height": 35
        },
        "outputId": "be8e1dc4-c1af-4b1e-80ca-9d5f07a99d23"
      },
      "source": [
        "tf.__version__"
      ],
      "execution_count": null,
      "outputs": [
        {
          "output_type": "execute_result",
          "data": {
            "application/vnd.google.colaboratory.intrinsic+json": {
              "type": "string"
            },
            "text/plain": [
              "'2.2.0'"
            ]
          },
          "metadata": {
            "tags": []
          },
          "execution_count": 2
        }
      ]
    },
    {
      "cell_type": "code",
      "metadata": {
        "id": "d483mI-yLC1Q",
        "colab": {
          "base_uri": "https://localhost:8080/",
          "height": 35
        },
        "outputId": "95aeb7da-d0cc-47fe-8a68-14f547c5047d"
      },
      "source": [
        "tf.keras.__version__"
      ],
      "execution_count": null,
      "outputs": [
        {
          "output_type": "execute_result",
          "data": {
            "application/vnd.google.colaboratory.intrinsic+json": {
              "type": "string"
            },
            "text/plain": [
              "'2.3.0-tf'"
            ]
          },
          "metadata": {
            "tags": []
          },
          "execution_count": 3
        }
      ]
    },
    {
      "cell_type": "code",
      "metadata": {
        "id": "36HDDTJNbU7Z"
      },
      "source": [
        "!unzip -q -o \"ic50_affinity_data.zip\""
      ],
      "execution_count": null,
      "outputs": []
    },
    {
      "cell_type": "code",
      "metadata": {
        "id": "XVKMQsNBHm9r",
        "colab": {
          "base_uri": "https://localhost:8080/",
          "height": 204
        },
        "outputId": "6ec8e5a5-7f5f-446e-9945-278b5c32f36c"
      },
      "source": [
        "data = pd.read_csv(\"ic50_affinity_data.csv\")\n",
        "data.head()"
      ],
      "execution_count": null,
      "outputs": [
        {
          "output_type": "execute_result",
          "data": {
            "text/html": [
              "<div>\n",
              "<style scoped>\n",
              "    .dataframe tbody tr th:only-of-type {\n",
              "        vertical-align: middle;\n",
              "    }\n",
              "\n",
              "    .dataframe tbody tr th {\n",
              "        vertical-align: top;\n",
              "    }\n",
              "\n",
              "    .dataframe thead th {\n",
              "        text-align: right;\n",
              "    }\n",
              "</style>\n",
              "<table border=\"1\" class=\"dataframe\">\n",
              "  <thead>\n",
              "    <tr style=\"text-align: right;\">\n",
              "      <th></th>\n",
              "      <th>compound_id</th>\n",
              "      <th>target_id</th>\n",
              "      <th>smiles</th>\n",
              "      <th>fasta</th>\n",
              "      <th>standard_value</th>\n",
              "    </tr>\n",
              "  </thead>\n",
              "  <tbody>\n",
              "    <tr>\n",
              "      <th>0</th>\n",
              "      <td>CHEMBL341267</td>\n",
              "      <td>P70536</td>\n",
              "      <td>CC1(C)C2CC[C@]1(CS(=O)(=O)N3CCC4(CC3)C=Cc5cccc...</td>\n",
              "      <td>MEGTPAANWSVELDLGSGVPPGEEGNRTAGPPQRNEALARVEVAVL...</td>\n",
              "      <td>2400.0</td>\n",
              "    </tr>\n",
              "    <tr>\n",
              "      <th>1</th>\n",
              "      <td>CHEMBL126962</td>\n",
              "      <td>P70536</td>\n",
              "      <td>CC1(C)C2CC[C@@]1(CS(=O)(=O)N3CCC4(CC3)C=Cc5ccc...</td>\n",
              "      <td>MEGTPAANWSVELDLGSGVPPGEEGNRTAGPPQRNEALARVEVAVL...</td>\n",
              "      <td>1800.0</td>\n",
              "    </tr>\n",
              "    <tr>\n",
              "      <th>2</th>\n",
              "      <td>CHEMBL420144</td>\n",
              "      <td>P70536</td>\n",
              "      <td>CC1(C)[C@@H]2CC[C@@]1(CS(=O)(=O)N3CCC4(CC3)C=C...</td>\n",
              "      <td>MEGTPAANWSVELDLGSGVPPGEEGNRTAGPPQRNEALARVEVAVL...</td>\n",
              "      <td>1800.0</td>\n",
              "    </tr>\n",
              "    <tr>\n",
              "      <th>3</th>\n",
              "      <td>CHEMBL2047680</td>\n",
              "      <td>Q9UBN7</td>\n",
              "      <td>N\\N=C(/Cc1ccc(O)c(Br)c1)\\C(=O)NCCS</td>\n",
              "      <td>MTSTGQDSTTTRQRRSRQNPQSPPQDSSVTSKRNIKKGAVPRSIPN...</td>\n",
              "      <td>1000.0</td>\n",
              "    </tr>\n",
              "    <tr>\n",
              "      <th>4</th>\n",
              "      <td>CHEMBL2047680</td>\n",
              "      <td>Q9BY41</td>\n",
              "      <td>N\\N=C(/Cc1ccc(O)c(Br)c1)\\C(=O)NCCS</td>\n",
              "      <td>MEEPEEPADSGQSLVPVYIYSPEYVSMCDSLAKIPKRASMVHSLIE...</td>\n",
              "      <td>13000.0</td>\n",
              "    </tr>\n",
              "  </tbody>\n",
              "</table>\n",
              "</div>"
            ],
            "text/plain": [
              "     compound_id  ... standard_value\n",
              "0   CHEMBL341267  ...         2400.0\n",
              "1   CHEMBL126962  ...         1800.0\n",
              "2   CHEMBL420144  ...         1800.0\n",
              "3  CHEMBL2047680  ...         1000.0\n",
              "4  CHEMBL2047680  ...        13000.0\n",
              "\n",
              "[5 rows x 5 columns]"
            ]
          },
          "metadata": {
            "tags": []
          },
          "execution_count": 5
        }
      ]
    },
    {
      "cell_type": "code",
      "metadata": {
        "id": "DrIE6wnp_eCZ",
        "colab": {
          "base_uri": "https://localhost:8080/",
          "height": 68
        },
        "outputId": "643d7154-3598-428c-8f1e-baf2d4c3dbaf"
      },
      "source": [
        "print(\"Num Interactions:\", len(data))\n",
        "print(\"Num Proteins:\", len(data.target_id.unique()))\n",
        "print(\"Num Ligands:\", len(data.compound_id.unique()))\n",
        "data.drop([\"compound_id\", \"target_id\"], axis=1, inplace=True)"
      ],
      "execution_count": null,
      "outputs": [
        {
          "output_type": "stream",
          "text": [
            "Num Interactions: 522218\n",
            "Num Proteins: 4007\n",
            "Num Ligands: 347736\n"
          ],
          "name": "stdout"
        }
      ]
    },
    {
      "cell_type": "markdown",
      "metadata": {
        "id": "mVJ6wVVbSprQ"
      },
      "source": [
        "## Clean Data"
      ]
    },
    {
      "cell_type": "code",
      "metadata": {
        "id": "RNFZgVjBX8pH",
        "colab": {
          "base_uri": "https://localhost:8080/",
          "height": 85
        },
        "outputId": "89a8057e-2969-4590-82d5-ae729ec17b36"
      },
      "source": [
        "data.isnull().sum()"
      ],
      "execution_count": null,
      "outputs": [
        {
          "output_type": "execute_result",
          "data": {
            "text/plain": [
              "smiles            0\n",
              "fasta             0\n",
              "standard_value    0\n",
              "dtype: int64"
            ]
          },
          "metadata": {
            "tags": []
          },
          "execution_count": 7
        }
      ]
    },
    {
      "cell_type": "code",
      "metadata": {
        "id": "sR4wb750YAfB",
        "colab": {
          "base_uri": "https://localhost:8080/",
          "height": 85
        },
        "outputId": "85d71e94-c09e-4716-83d0-fe7b6fd1c6d2"
      },
      "source": [
        "data.isna().sum()"
      ],
      "execution_count": null,
      "outputs": [
        {
          "output_type": "execute_result",
          "data": {
            "text/plain": [
              "smiles            0\n",
              "fasta             0\n",
              "standard_value    0\n",
              "dtype: int64"
            ]
          },
          "metadata": {
            "tags": []
          },
          "execution_count": 8
        }
      ]
    },
    {
      "cell_type": "code",
      "metadata": {
        "id": "PDo2-ajVJHIZ",
        "colab": {
          "base_uri": "https://localhost:8080/",
          "height": 204
        },
        "outputId": "6726c67c-761e-4af1-c9c3-4d3fefeec45c"
      },
      "source": [
        "smiles = []\n",
        "for mol in data.smiles:\n",
        "    smiles.append(mol.replace('/', \"\").replace('@', \"\").replace('\\\\', \"\").replace('.', \"\"))\n",
        "data.smiles = smiles\n",
        "del smiles\n",
        "data.head()"
      ],
      "execution_count": null,
      "outputs": [
        {
          "output_type": "execute_result",
          "data": {
            "text/html": [
              "<div>\n",
              "<style scoped>\n",
              "    .dataframe tbody tr th:only-of-type {\n",
              "        vertical-align: middle;\n",
              "    }\n",
              "\n",
              "    .dataframe tbody tr th {\n",
              "        vertical-align: top;\n",
              "    }\n",
              "\n",
              "    .dataframe thead th {\n",
              "        text-align: right;\n",
              "    }\n",
              "</style>\n",
              "<table border=\"1\" class=\"dataframe\">\n",
              "  <thead>\n",
              "    <tr style=\"text-align: right;\">\n",
              "      <th></th>\n",
              "      <th>smiles</th>\n",
              "      <th>fasta</th>\n",
              "      <th>standard_value</th>\n",
              "    </tr>\n",
              "  </thead>\n",
              "  <tbody>\n",
              "    <tr>\n",
              "      <th>0</th>\n",
              "      <td>CC1(C)C2CC[C]1(CS(=O)(=O)N3CCC4(CC3)C=Cc5ccccc...</td>\n",
              "      <td>MEGTPAANWSVELDLGSGVPPGEEGNRTAGPPQRNEALARVEVAVL...</td>\n",
              "      <td>2400.0</td>\n",
              "    </tr>\n",
              "    <tr>\n",
              "      <th>1</th>\n",
              "      <td>CC1(C)C2CC[C]1(CS(=O)(=O)N3CCC4(CC3)C=Cc5ccccc...</td>\n",
              "      <td>MEGTPAANWSVELDLGSGVPPGEEGNRTAGPPQRNEALARVEVAVL...</td>\n",
              "      <td>1800.0</td>\n",
              "    </tr>\n",
              "    <tr>\n",
              "      <th>2</th>\n",
              "      <td>CC1(C)[CH]2CC[C]1(CS(=O)(=O)N3CCC4(CC3)C=Cc5cc...</td>\n",
              "      <td>MEGTPAANWSVELDLGSGVPPGEEGNRTAGPPQRNEALARVEVAVL...</td>\n",
              "      <td>1800.0</td>\n",
              "    </tr>\n",
              "    <tr>\n",
              "      <th>3</th>\n",
              "      <td>NN=C(Cc1ccc(O)c(Br)c1)C(=O)NCCS</td>\n",
              "      <td>MTSTGQDSTTTRQRRSRQNPQSPPQDSSVTSKRNIKKGAVPRSIPN...</td>\n",
              "      <td>1000.0</td>\n",
              "    </tr>\n",
              "    <tr>\n",
              "      <th>4</th>\n",
              "      <td>NN=C(Cc1ccc(O)c(Br)c1)C(=O)NCCS</td>\n",
              "      <td>MEEPEEPADSGQSLVPVYIYSPEYVSMCDSLAKIPKRASMVHSLIE...</td>\n",
              "      <td>13000.0</td>\n",
              "    </tr>\n",
              "  </tbody>\n",
              "</table>\n",
              "</div>"
            ],
            "text/plain": [
              "                                              smiles  ... standard_value\n",
              "0  CC1(C)C2CC[C]1(CS(=O)(=O)N3CCC4(CC3)C=Cc5ccccc...  ...         2400.0\n",
              "1  CC1(C)C2CC[C]1(CS(=O)(=O)N3CCC4(CC3)C=Cc5ccccc...  ...         1800.0\n",
              "2  CC1(C)[CH]2CC[C]1(CS(=O)(=O)N3CCC4(CC3)C=Cc5cc...  ...         1800.0\n",
              "3                    NN=C(Cc1ccc(O)c(Br)c1)C(=O)NCCS  ...         1000.0\n",
              "4                    NN=C(Cc1ccc(O)c(Br)c1)C(=O)NCCS  ...        13000.0\n",
              "\n",
              "[5 rows x 3 columns]"
            ]
          },
          "metadata": {
            "tags": []
          },
          "execution_count": 9
        }
      ]
    },
    {
      "cell_type": "code",
      "metadata": {
        "id": "2IQ3qj7B9HiM",
        "colab": {
          "base_uri": "https://localhost:8080/",
          "height": 654
        },
        "outputId": "b4ac8a2d-95a8-46cd-d397-02eb0656f98f"
      },
      "source": [
        "lengths = []\n",
        "for i in data.smiles:\n",
        "    lengths.append(len(i))\n",
        "\n",
        "c = Counter(lengths)\n",
        "plt.figure(figsize=(20, 10), dpi=80)\n",
        "plt.bar([i for i in c.keys()], c.values())\n",
        "plt.show()"
      ],
      "execution_count": null,
      "outputs": [
        {
          "output_type": "display_data",
          "data": {
            "image/png": "[encoded data removed]",
            "text/plain": [
              "<Figure size 1600x800 with 1 Axes>"
            ]
          },
          "metadata": {
            "tags": [],
            "needs_background": "light"
          }
        }
      ]
    },
    {
      "cell_type": "code",
      "metadata": {
        "id": "5tVmuHLl9aAd",
        "colab": {
          "base_uri": "https://localhost:8080/",
          "height": 34
        },
        "outputId": "886bf21d-f588-49eb-a5b1-544e1f6fc790"
      },
      "source": [
        "# remove rows with molecule SMILES length greater than max_smiles\n",
        "max_smiles = 100\n",
        "data.drop(data[data[\"smiles\"].map(len) > max_smiles].index, inplace=True)\n",
        "data = data.reset_index(drop=True)\n",
        "len(data) "
      ],
      "execution_count": null,
      "outputs": [
        {
          "output_type": "execute_result",
          "data": {
            "text/plain": [
              "504619"
            ]
          },
          "metadata": {
            "tags": []
          },
          "execution_count": 11
        }
      ]
    },
    {
      "cell_type": "code",
      "metadata": {
        "id": "Z5ak6evN-aXh",
        "colab": {
          "base_uri": "https://localhost:8080/",
          "height": 654
        },
        "outputId": "d3562d59-e7ee-4401-9fa7-e28a749e40bf"
      },
      "source": [
        "lengths = []\n",
        "for i in data.smiles:\n",
        "    lengths.append(len(i))\n",
        "\n",
        "c = Counter(lengths)\n",
        "plt.figure(figsize=(20, 10), dpi=80)\n",
        "plt.bar([i for i in c.keys()], c.values())\n",
        "plt.show()"
      ],
      "execution_count": null,
      "outputs": [
        {
          "output_type": "display_data",
          "data": {
            "image/png": "[encoded data removed]",
            "text/plain": [
              "<Figure size 1600x800 with 1 Axes>"
            ]
          },
          "metadata": {
            "tags": [],
            "needs_background": "light"
          }
        }
      ]
    },
    {
      "cell_type": "code",
      "metadata": {
        "id": "UIL04EF--jue",
        "colab": {
          "base_uri": "https://localhost:8080/",
          "height": 654
        },
        "outputId": "26eceecf-8a13-4254-e5a5-c483ea070267"
      },
      "source": [
        "lengths = []\n",
        "for i in data.fasta:\n",
        "    lengths.append(len(i))\n",
        "\n",
        "c = Counter(lengths)\n",
        "plt.figure(figsize=(20, 10), dpi=80)\n",
        "plt.bar([i for i in c.keys()], c.values())\n",
        "plt.show()"
      ],
      "execution_count": null,
      "outputs": [
        {
          "output_type": "display_data",
          "data": {
            "image/png": "[encoded data removed]",
            "text/plain": [
              "<Figure size 1600x800 with 1 Axes>"
            ]
          },
          "metadata": {
            "tags": [],
            "needs_background": "light"
          }
        }
      ]
    },
    {
      "cell_type": "code",
      "metadata": {
        "id": "RpMFkLBM-4F9",
        "colab": {
          "base_uri": "https://localhost:8080/",
          "height": 34
        },
        "outputId": "45a5899e-89a3-4ab1-da51-250c2f8cbb63"
      },
      "source": [
        "# remove rows with molecule SMILES length greater than max_fasta\n",
        "max_fasta = 5000\n",
        "data.drop(data[data[\"fasta\"].map(len) > max_fasta].index, inplace=True)\n",
        "data = data.reset_index(drop=True)\n",
        "len(data) "
      ],
      "execution_count": null,
      "outputs": [
        {
          "output_type": "execute_result",
          "data": {
            "text/plain": [
              "504542"
            ]
          },
          "metadata": {
            "tags": []
          },
          "execution_count": 14
        }
      ]
    },
    {
      "cell_type": "code",
      "metadata": {
        "id": "3JNv3QSZ-9Qx",
        "colab": {
          "base_uri": "https://localhost:8080/",
          "height": 654
        },
        "outputId": "e04cbe0d-da2d-400b-ac00-596fc0255329"
      },
      "source": [
        "lengths = []\n",
        "for i in data.fasta:\n",
        "    lengths.append(len(i))\n",
        "\n",
        "c = Counter(lengths)\n",
        "del lengths\n",
        "plt.figure(figsize=(20, 10), dpi=80)\n",
        "plt.bar([i for i in c.keys()], c.values())\n",
        "plt.show()"
      ],
      "execution_count": null,
      "outputs": [
        {
          "output_type": "display_data",
          "data": {
            "image/png": "[encoded data removed]",
            "text/plain": [
              "<Figure size 1600x800 with 1 Axes>"
            ]
          },
          "metadata": {
            "tags": [],
            "needs_background": "light"
          }
        }
      ]
    },
    {
      "cell_type": "code",
      "metadata": {
        "id": "p9N2LleqgvOw",
        "colab": {
          "base_uri": "https://localhost:8080/",
          "height": 34
        },
        "outputId": "1caefb57-e6a3-4c4e-8e12-eb5240c42a54"
      },
      "source": [
        "# remove negative IC50 values\n",
        "data.drop(data[data[\"standard_value\"] < 0.0].index, inplace=True)\n",
        "data = data.reset_index(drop=True)\n",
        "len(data) "
      ],
      "execution_count": null,
      "outputs": [
        {
          "output_type": "execute_result",
          "data": {
            "text/plain": [
              "504528"
            ]
          },
          "metadata": {
            "tags": []
          },
          "execution_count": 16
        }
      ]
    },
    {
      "cell_type": "code",
      "metadata": {
        "id": "rQWZNVars3R9",
        "colab": {
          "base_uri": "https://localhost:8080/",
          "height": 34
        },
        "outputId": "f46a8859-18e4-463a-fb56-c9759a6c8c2a"
      },
      "source": [
        "# remove IC50 values over 1,000,000\n",
        "data.drop(data[data[\"standard_value\"] > 1000000.0].index, inplace=True)\n",
        "data = data.reset_index(drop=True)\n",
        "len(data) "
      ],
      "execution_count": null,
      "outputs": [
        {
          "output_type": "execute_result",
          "data": {
            "text/plain": [
              "501577"
            ]
          },
          "metadata": {
            "tags": []
          },
          "execution_count": 18
        }
      ]
    },
    {
      "cell_type": "code",
      "metadata": {
        "id": "AcnjdbyU1jjr",
        "colab": {
          "base_uri": "https://localhost:8080/",
          "height": 170
        },
        "outputId": "63fdd2cb-b704-46ec-bf70-3c1abc1be849"
      },
      "source": [
        "data.standard_value.describe()"
      ],
      "execution_count": null,
      "outputs": [
        {
          "output_type": "execute_result",
          "data": {
            "text/plain": [
              "count     501577.000000\n",
              "mean       13465.875288\n",
              "std        63477.434940\n",
              "min            0.000000\n",
              "25%           30.000000\n",
              "50%          370.000000\n",
              "75%         4350.000000\n",
              "max      1000000.000000\n",
              "Name: standard_value, dtype: float64"
            ]
          },
          "metadata": {
            "tags": []
          },
          "execution_count": 19
        }
      ]
    },
    {
      "cell_type": "code",
      "metadata": {
        "id": "Z14KlfI7d9ak",
        "colab": {
          "base_uri": "https://localhost:8080/",
          "height": 666
        },
        "outputId": "737d4761-8fc9-493d-849d-41751a42d140"
      },
      "source": [
        "# element distribution in molecules (SMILES)\n",
        "chars = []\n",
        "for seq in data.smiles:\n",
        "    for char in seq:\n",
        "        chars.append(char)\n",
        "c = Counter(chars)\n",
        "del chars\n",
        "plt.figure(figsize=(20, 10), dpi=80)\n",
        "plt.bar([i for i in c.keys()], c.values())\n",
        "plt.show()"
      ],
      "execution_count": null,
      "outputs": [
        {
          "output_type": "display_data",
          "data": {
            "image/png": "[encoded data removed]",
            "text/plain": [
              "<Figure size 1600x800 with 1 Axes>"
            ]
          },
          "metadata": {
            "tags": [],
            "needs_background": "light"
          }
        }
      ]
    },
    {
      "cell_type": "code",
      "metadata": {
        "id": "DwlJ7I8jd885",
        "colab": {
          "base_uri": "https://localhost:8080/",
          "height": 666
        },
        "outputId": "afb59837-5ad7-44ba-c898-ed5d639889ce"
      },
      "source": [
        "# amino acid distribution in protein sequences\n",
        "letters = []\n",
        "for seq in data.fasta:\n",
        "    for letter in seq:\n",
        "        letters.append(letter)\n",
        "c = Counter(letters)\n",
        "del letters\n",
        "plt.figure(figsize=(20, 10), dpi=80)\n",
        "plt.bar([i for i in c.keys()], c.values())\n",
        "plt.show()"
      ],
      "execution_count": null,
      "outputs": [
        {
          "output_type": "display_data",
          "data": {
            "image/png": "[encoded data removed]",
            "text/plain": [
              "<Figure size 1600x800 with 1 Axes>"
            ]
          },
          "metadata": {
            "tags": [],
            "needs_background": "light"
          }
        }
      ]
    },
    {
      "cell_type": "markdown",
      "metadata": {
        "id": "8YzREr9YStB7"
      },
      "source": [
        "## Split Train/Valid Sets"
      ]
    },
    {
      "cell_type": "code",
      "metadata": {
        "id": "y09QFqbhPMuO",
        "colab": {
          "base_uri": "https://localhost:8080/",
          "height": 204
        },
        "outputId": "56c3c8e0-ba2b-43e2-9ff0-64583dc8e3c8"
      },
      "source": [
        "# shuffle rows\n",
        "data = data.sample(frac=1).reset_index(drop=True)\n",
        "data.head()"
      ],
      "execution_count": null,
      "outputs": [
        {
          "output_type": "execute_result",
          "data": {
            "text/html": [
              "<div>\n",
              "<style scoped>\n",
              "    .dataframe tbody tr th:only-of-type {\n",
              "        vertical-align: middle;\n",
              "    }\n",
              "\n",
              "    .dataframe tbody tr th {\n",
              "        vertical-align: top;\n",
              "    }\n",
              "\n",
              "    .dataframe thead th {\n",
              "        text-align: right;\n",
              "    }\n",
              "</style>\n",
              "<table border=\"1\" class=\"dataframe\">\n",
              "  <thead>\n",
              "    <tr style=\"text-align: right;\">\n",
              "      <th></th>\n",
              "      <th>smiles</th>\n",
              "      <th>fasta</th>\n",
              "      <th>standard_value</th>\n",
              "    </tr>\n",
              "  </thead>\n",
              "  <tbody>\n",
              "    <tr>\n",
              "      <th>0</th>\n",
              "      <td>CNCc1ccc(cc1)n2cc3c(F)c(F)cc(C(=O)N)c3n2</td>\n",
              "      <td>MAESSDKLYRVEYAKSGRASCKKCSESIPKDSLRMAIMVQSPMFDG...</td>\n",
              "      <td>25.0</td>\n",
              "    </tr>\n",
              "    <tr>\n",
              "      <th>1</th>\n",
              "      <td>O=C(CNC12CC3CC(CC(C3)C1)C2)N4[CH](CC[CH]4C#N)C#N</td>\n",
              "      <td>MKTPWKVLLGLLGAAALVTIITVPVVLLNKGTDDATADSRKTYTLT...</td>\n",
              "      <td>106.0</td>\n",
              "    </tr>\n",
              "    <tr>\n",
              "      <th>2</th>\n",
              "      <td>COC(=O)c1ccsc1C=C2Oc3ccc(O)c(OC)c3c4ccc5NC(C)(...</td>\n",
              "      <td>MDSKESLTPGREENPSSVLAQERGDVMDFYKTLRGGATVKVSASSP...</td>\n",
              "      <td>1.8</td>\n",
              "    </tr>\n",
              "    <tr>\n",
              "      <th>3</th>\n",
              "      <td>COc1cccc(c1)c2cc(O)c3cccnc3n2</td>\n",
              "      <td>MREIVHIQAGQCGNQIGAKFWEVISDEHGIDPTGSYHGDSDLQLER...</td>\n",
              "      <td>960.0</td>\n",
              "    </tr>\n",
              "    <tr>\n",
              "      <th>4</th>\n",
              "      <td>CCOC(=O)CCCCCCn1c(C)nc(c2ccc(F)cc2)c1c3ccc(F)cc3</td>\n",
              "      <td>MVQYELWAALPGASGVALACCFVAAAVALRWSGRRTARGAVVRARQ...</td>\n",
              "      <td>64.0</td>\n",
              "    </tr>\n",
              "  </tbody>\n",
              "</table>\n",
              "</div>"
            ],
            "text/plain": [
              "                                              smiles  ... standard_value\n",
              "0           CNCc1ccc(cc1)n2cc3c(F)c(F)cc(C(=O)N)c3n2  ...           25.0\n",
              "1   O=C(CNC12CC3CC(CC(C3)C1)C2)N4[CH](CC[CH]4C#N)C#N  ...          106.0\n",
              "2  COC(=O)c1ccsc1C=C2Oc3ccc(O)c(OC)c3c4ccc5NC(C)(...  ...            1.8\n",
              "3                      COc1cccc(c1)c2cc(O)c3cccnc3n2  ...          960.0\n",
              "4   CCOC(=O)CCCCCCn1c(C)nc(c2ccc(F)cc2)c1c3ccc(F)cc3  ...           64.0\n",
              "\n",
              "[5 rows x 3 columns]"
            ]
          },
          "metadata": {
            "tags": []
          },
          "execution_count": 22
        }
      ]
    },
    {
      "cell_type": "code",
      "metadata": {
        "id": "e-TjSUgzQcXy",
        "colab": {
          "base_uri": "https://localhost:8080/",
          "height": 51
        },
        "outputId": "65f1448d-e6c0-4dfc-ab33-602cc02832af"
      },
      "source": [
        "num_train = 500000\n",
        "batch_siz = 50000\n",
        "train_all = data[:num_train]\n",
        "valid = data[num_train:]\n",
        "del data\n",
        "print('Num Training Samples:', len(train_all))\n",
        "print('Num Validation Samples:', len(valid))"
      ],
      "execution_count": null,
      "outputs": [
        {
          "output_type": "stream",
          "text": [
            "Num Training Samples: 500000\n",
            "Num Validation Samples: 1577\n"
          ],
          "name": "stdout"
        }
      ]
    },
    {
      "cell_type": "code",
      "metadata": {
        "id": "7d7mnHhe9Hmr",
        "colab": {
          "base_uri": "https://localhost:8080/",
          "height": 102
        },
        "outputId": "3949f21b-d928-47f7-c0e6-2f5c45af44ee"
      },
      "source": [
        "print(\"Train Proteins:\", len(train_all.fasta.unique()))\n",
        "print(\"Train Ligands:\", len(train_all.smiles.unique()), \"\\n\")\n",
        "\n",
        "valid_proteins = len(valid.fasta.unique())\n",
        "valid_ligands = len(valid.smiles.unique())\n",
        "print(\"Valid Proteins:\", valid_proteins)\n",
        "print(\"Valid Ligands:\", valid_ligands)"
      ],
      "execution_count": null,
      "outputs": [
        {
          "output_type": "stream",
          "text": [
            "Train Proteins: 3813\n",
            "Train Ligands: 323701 \n",
            "\n",
            "Valid Proteins: 699\n",
            "Valid Ligands: 1573\n"
          ],
          "name": "stdout"
        }
      ]
    },
    {
      "cell_type": "code",
      "metadata": {
        "id": "Fwi-aYpl9Dnj",
        "colab": {
          "base_uri": "https://localhost:8080/",
          "height": 51
        },
        "outputId": "08cc3853-fcac-4cdb-f3f8-ea7ce5204b5d"
      },
      "source": [
        "shared_proteins = len(set(train_all.fasta) & set(valid.fasta))\n",
        "shared_ligands = len(set(train_all.smiles) & set(valid.smiles))\n",
        "print(shared_proteins, \"Proteins Shared Over Train and Valid Sets\")\n",
        "print(shared_ligands, \"Ligands Shared Over Train and Valid Sets\")"
      ],
      "execution_count": null,
      "outputs": [
        {
          "output_type": "stream",
          "text": [
            "699 Proteins Shared Over Train and Valid Sets\n",
            "843 Ligands Shared Over Train and Valid Sets\n"
          ],
          "name": "stdout"
        }
      ]
    },
    {
      "cell_type": "code",
      "metadata": {
        "id": "33oPln5L9rWV",
        "colab": {
          "base_uri": "https://localhost:8080/",
          "height": 51
        },
        "outputId": "c1929713-1c0d-4fe5-bfe2-d15a7df23b75"
      },
      "source": [
        "print(\"Valid Set Contains\", valid_proteins-shared_proteins, \"New Proteins\")\n",
        "print(\"Valid Set Contains\", valid_ligands-shared_ligands, \"New Ligands\")"
      ],
      "execution_count": null,
      "outputs": [
        {
          "output_type": "stream",
          "text": [
            "Valid Set Contains 0 New Proteins\n",
            "Valid Set Contains 730 New Ligands\n"
          ],
          "name": "stdout"
        }
      ]
    },
    {
      "cell_type": "markdown",
      "metadata": {
        "id": "xRv4LwvkSzXb"
      },
      "source": [
        "## Make Validation Data"
      ]
    },
    {
      "cell_type": "code",
      "metadata": {
        "id": "qbjZAFfD_gVw"
      },
      "source": [
        "list_smiles_elements = ['6', '3', '=', 'H', 'C', 'O', 'c', '#', 'a', '[', 't', 'r', 'K', 'n', 'B', 'F', '4', '+', ']', '-', '1', 'P', '0', 'L', '%', 'g', '9', 'Z', '(', 'N', '8', 'I', '7', '5', 'l', ')', 'A', 'e', 'o', 'V', 's', 'S', '2', 'M', 'T', 'u', 'i']\n",
        "smiles_to_int = dict(zip(list_smiles_elements, range(1, len(list_smiles_elements)+1)))\n",
        "elements = len(list_smiles_elements) + 1 # added one for empty characters filled in with 0's\n",
        "\n",
        "amino_acids = ['A', 'C', 'D', 'E', 'F', 'G', 'H', 'I', 'K', 'L', 'M', 'N', 'P', 'Q', 'R', 'S', 'T', 'U', 'V', 'W', 'X', 'Y']\n",
        "amino_to_int = dict(zip(amino_acids, range(1, len(amino_acids)+1)))\n",
        "aminos = len(amino_acids) + 1 # added one for empty characters filled in with 0's"
      ],
      "execution_count": null,
      "outputs": []
    },
    {
      "cell_type": "code",
      "metadata": {
        "id": "fbDbzBLKQfG_"
      },
      "source": [
        "def get_data(data):\n",
        "\n",
        "    smiles = []\n",
        "    for seq in data.smiles:\n",
        "        factorized_seq_list = []\n",
        "        for element in seq:\n",
        "            factorized_seq_list.append(smiles_to_int[element])\n",
        "        while(len(factorized_seq_list)!=max_smiles): # longest molecule\n",
        "            factorized_seq_list.append(0) # pad with zeros\n",
        "        smiles.append(factorized_seq_list)\n",
        "\n",
        "    fastas = []\n",
        "    for seq in data.fasta:\n",
        "        factorized_seq_list = []\n",
        "        for amino in seq:\n",
        "            factorized_seq_list.append(amino_to_int[amino])\n",
        "        while(len(factorized_seq_list)!=max_fasta): # longest protein\n",
        "            factorized_seq_list.append(0) # pad with zeros\n",
        "        fastas.append(factorized_seq_list)\n",
        "\n",
        "    labels = list(data.standard_value)\n",
        "\n",
        "    return smiles, fastas, labels"
      ],
      "execution_count": null,
      "outputs": []
    },
    {
      "cell_type": "code",
      "metadata": {
        "id": "I7V6tN21QB2L",
        "colab": {
          "base_uri": "https://localhost:8080/",
          "height": 88
        },
        "outputId": "db9d52ca-7021-4c92-bdb3-22c1e271df9c"
      },
      "source": [
        "x_valid_smiles, x_valid_fasta, y_valid = get_data(valid)\n",
        "\n",
        "print(x_valid_smiles[0])\n",
        "print(x_valid_fasta[0])\n",
        "print(y_valid[0])"
      ],
      "execution_count": null,
      "outputs": [
        {
          "output_type": "stream",
          "text": [
            "[30, 5, 5, 5, 5, 10, 5, 4, 19, 29, 6, 22, 29, 3, 6, 36, 29, 6, 36, 5, 5, 5, 5, 5, 21, 5, 5, 5, 5, 5, 21, 36, 5, 29, 3, 6, 36, 30, 43, 5, 5, 5, 10, 5, 4, 19, 43, 5, 29, 3, 6, 36, 6, 0, 0, 0, 0, 0, 0, 0, 0, 0, 0, 0, 0, 0, 0, 0, 0, 0, 0, 0, 0, 0, 0, 0, 0, 0, 0, 0, 0, 0, 0, 0, 0, 0, 0, 0, 0, 0, 0, 0, 0, 0, 0, 0, 0, 0, 0, 0]\n",
            "[11, 6, 1, 1, 13, 6, 15, 15, 6, 13, 15, 10, 10, 15, 13, 13, 13, 13, 10, 10, 10, 10, 10, 10, 10, 10, 15, 13, 13, 13, 1, 1, 10, 17, 10, 3, 13, 6, 10, 10, 13, 6, 3, 5, 1, 1, 3, 4, 1, 6, 1, 15, 10, 5, 1, 16, 16, 22, 12, 16, 16, 1, 4, 14, 19, 10, 5, 15, 16, 17, 1, 1, 16, 20, 1, 7, 3, 17, 12, 8, 17, 1, 4, 12, 1, 15, 15, 14, 4, 4, 4, 1, 10, 10, 16, 14, 4, 5, 1, 4, 1, 20, 6, 9, 9, 1, 9, 4, 10, 22, 3, 13, 19, 20, 14, 12, 5, 17, 3, 13, 4, 10, 15, 15, 8, 8, 6, 1, 19, 15, 17, 10, 6, 13, 1, 12, 10, 13, 10, 1, 9, 15, 14, 14, 22, 12, 16, 10, 10, 16, 12, 11, 16, 14, 8, 22, 16, 17, 6, 9, 19, 2, 5, 13, 12, 9, 17, 1, 16, 2, 20, 16, 10, 3, 13, 3, 10, 12, 12, 8, 10, 1, 16, 16, 15, 16, 22, 1, 11, 10, 10, 5, 1, 20, 4, 6, 20, 7, 12, 1, 19, 6, 8, 13, 10, 9, 13, 10, 22, 14, 4, 5, 17, 1, 10, 16, 12, 4, 1, 22, 15, 14, 3, 6, 5, 16, 3, 17, 6, 1, 22, 20, 15, 16, 20, 22, 3, 16, 13, 17, 5, 4, 4, 3, 10, 4, 15, 8, 22, 7, 14, 10, 4, 13, 10, 22, 10, 12, 10, 7, 1, 22, 19, 15, 15, 19, 10, 7, 15, 15, 22, 6, 3, 15, 22, 8, 12, 10, 15, 6, 13, 8, 13, 1, 7, 10, 10, 6, 12, 11, 20, 1, 14, 16, 20, 4, 16, 8, 22, 3, 11, 19, 19, 13, 5, 13, 3, 9, 13, 12, 10, 3, 19, 17, 16, 17, 11, 19, 14, 9, 6, 20, 12, 1, 17, 7, 11, 5, 15, 19, 1, 4, 4, 5, 5, 17, 16, 10, 6, 10, 10, 13, 11, 13, 13, 4, 5, 20, 1, 4, 16, 11, 10, 4, 9, 13, 4, 3, 6, 15, 4, 19, 19, 2, 7, 1, 16, 1, 20, 3, 5, 22, 12, 15, 9, 3, 5, 15, 8, 9, 14, 2, 17, 14, 19, 17, 11, 3, 14, 10, 16, 17, 19, 7, 7, 4, 11, 6, 7, 19, 14, 22, 22, 10, 14, 22, 9, 3, 14, 13, 19, 16, 10, 15, 15, 1, 12, 13, 6, 5, 7, 4, 1, 8, 6, 3, 19, 10, 1, 10, 16, 19, 16, 17, 13, 1, 7, 10, 7, 9, 8, 6, 10, 10, 3, 7, 19, 17, 12, 3, 17, 4, 16, 3, 8, 12, 22, 10, 10, 9, 11, 1, 10, 4, 9, 8, 1, 5, 10, 13, 5, 6, 22, 10, 19, 3, 14, 20, 15, 20, 6, 19, 5, 16, 6, 15, 17, 13, 16, 16, 15, 22, 12, 5, 3, 20, 20, 22, 10, 15, 17, 9, 22, 14, 6, 8, 2, 13, 13, 19, 19, 15, 12, 4, 17, 7, 5, 3, 1, 6, 1, 9, 5, 7, 8, 13, 16, 19, 17, 13, 22, 8, 15, 22, 5, 19, 16, 5, 19, 10, 14, 5, 14, 5, 7, 14, 1, 10, 2, 11, 4, 1, 6, 7, 14, 6, 13, 10, 7, 14, 2, 3, 8, 22, 14, 16, 17, 15, 1, 6, 1, 9, 10, 15, 1, 19, 10, 14, 1, 6, 2, 16, 15, 13, 20, 14, 4, 19, 10, 9, 3, 11, 19, 1, 16, 3, 1, 10, 3, 1, 14, 13, 10, 10, 3, 22, 5, 14, 13, 19, 17, 14, 20, 10, 14, 4, 14, 12, 4, 15, 12, 6, 4, 19, 10, 6, 20, 13, 4, 22, 14, 20, 15, 13, 13, 10, 13, 12, 12, 22, 13, 4, 6, 8, 3, 10, 19, 17, 3, 4, 1, 4, 1, 16, 15, 5, 19, 4, 4, 22, 3, 15, 16, 5, 14, 1, 19, 20, 12, 4, 22, 1, 4, 1, 12, 20, 12, 22, 12, 17, 12, 8, 17, 17, 4, 1, 16, 9, 8, 10, 10, 14, 9, 12, 11, 14, 8, 1, 12, 7, 17, 10, 17, 22, 6, 12, 20, 1, 15, 15, 5, 3, 19, 16, 12, 5, 14, 12, 1, 17, 16, 9, 15, 8, 8, 9, 9, 19, 14, 3, 10, 14, 15, 1, 19, 10, 13, 19, 9, 4, 10, 4, 4, 22, 12, 14, 8, 10, 10, 3, 11, 4, 17, 8, 22, 16, 19, 1, 12, 19, 2, 15, 19, 3, 6, 16, 2, 10, 14, 10, 4, 13, 3, 10, 17, 12, 10, 11, 1, 17, 16, 15, 9, 22, 3, 4, 10, 10, 20, 19, 20, 17, 16, 20, 15, 3, 9, 19, 6, 15, 1, 8, 10, 13, 22, 5, 13, 9, 22, 19, 4, 5, 17, 12, 9, 1, 1, 15, 10, 12, 6, 22, 19, 3, 1, 6, 3, 16, 20, 15, 16, 11, 22, 4, 17, 13, 17, 10, 4, 14, 3, 10, 4, 15, 10, 5, 14, 4, 10, 14, 13, 10, 22, 10, 12, 10, 7, 1, 22, 19, 6, 15, 1, 10, 7, 15, 7, 22, 6, 1, 14, 7, 8, 12, 10, 4, 6, 13, 8, 13, 1, 7, 10, 10, 6, 12, 11, 20, 1, 14, 17, 20, 16, 12, 8, 22, 3, 10, 19, 1, 13, 5, 13, 16, 1, 16, 17, 11, 3, 1, 17, 4, 1, 11, 8, 9, 14, 6, 20, 17, 13, 15, 15, 11, 5, 4, 4, 1, 3, 9, 5, 5, 8, 16, 10, 6, 10, 10, 13, 19, 13, 13, 4, 5, 20, 12, 9, 16, 11, 10, 4, 9, 13, 17, 3, 6, 15, 4, 19, 19, 2, 7, 1, 16, 1, 20, 3, 5, 22, 12, 6, 9, 3, 5, 15, 8, 9, 14, 2, 17, 17, 19, 12, 11, 4, 3, 10, 19, 19, 19, 7, 7, 4, 11, 6, 7, 8, 14, 22, 5, 11, 14, 22, 9, 3, 10, 13, 19, 1, 10, 15, 4, 6, 1, 12, 13, 6, 5, 7, 4, 1, 8, 6, 3, 19, 10, 1, 10, 16, 19, 16, 17, 13, 9, 7, 10, 7, 16, 8, 12, 10, 10, 16, 16, 4, 6, 6, 6, 22, 4, 7, 3, 8, 12, 5, 10, 11, 9, 11, 1, 10, 3, 9, 8, 1, 5, 8, 13, 5, 16, 22, 10, 19, 3, 4, 20, 15, 20, 15, 19, 5, 3, 6, 16, 8, 17, 9, 4, 12, 22, 12, 14, 4, 20, 20, 16, 10, 15, 10, 9, 22, 14, 6, 10, 2, 13, 13, 1, 13, 15, 16, 14, 6, 3, 5, 3, 13, 6, 1, 9, 5, 7, 8, 13, 16, 16, 19, 13, 22, 8, 15, 22, 5, 19, 16, 5, 8, 8, 14, 5, 14, 5, 7, 4, 1, 10, 2, 9, 1, 1, 6, 7, 17, 6, 13, 10, 7, 17, 2, 3, 8, 22, 14, 16, 9, 4, 1, 6, 9, 15, 10, 1, 3, 1, 11, 9, 10, 6, 22, 16, 9, 13, 20, 13, 4, 1, 11, 9, 19, 8, 17, 6, 14, 13, 12, 11, 16, 1, 16, 1, 11, 11, 12, 22, 5, 9, 13, 10, 11, 3, 20, 10, 10, 17, 4, 12, 6, 15, 7, 6, 4, 9, 10, 6, 20, 13, 14, 22, 17, 20, 17, 13, 12, 16, 1, 15, 16, 4, 6, 16, 10, 13, 3, 16, 6, 15, 19, 12, 5, 10, 6, 11, 12, 10, 3, 1, 14, 14, 1, 15, 19, 6, 14, 20, 19, 10, 10, 5, 10, 6, 19, 1, 10, 10, 10, 1, 16, 10, 6, 10, 17, 14, 15, 10, 5, 16, 8, 15, 22, 14, 16, 10, 15, 14, 13, 7, 7, 6, 13, 14, 5, 6, 16, 4, 19, 4, 10, 15, 7, 16, 0, 0, 0, 0, 0, 0, 0, 0, 0, 0, 0, 0, 0, 0, 0, 0, 0, 0, 0, 0, 0, 0, 0, 0, 0, 0, 0, 0, 0, 0, 0, 0, 0, 0, 0, 0, 0, 0, 0, 0, 0, 0, 0, 0, 0, 0, 0, 0, 0, 0, 0, 0, 0, 0, 0, 0, 0, 0, 0, 0, 0, 0, 0, 0, 0, 0, 0, 0, 0, 0, 0, 0, 0, 0, 0, 0, 0, 0, 0, 0, 0, 0, 0, 0, 0, 0, 0, 0, 0, 0, 0, 0, 0, 0, 0, 0, 0, 0, 0, 0, 0, 0, 0, 0, 0, 0, 0, 0, 0, 0, 0, 0, 0, 0, 0, 0, 0, 0, 0, 0, 0, 0, 0, 0, 0, 0, 0, 0, 0, 0, 0, 0, 0, 0, 0, 0, 0, 0, 0, 0, 0, 0, 0, 0, 0, 0, 0, 0, 0, 0, 0, 0, 0, 0, 0, 0, 0, 0, 0, 0, 0, 0, 0, 0, 0, 0, 0, 0, 0, 0, 0, 0, 0, 0, 0, 0, 0, 0, 0, 0, 0, 0, 0, 0, 0, 0, 0, 0, 0, 0, 0, 0, 0, 0, 0, 0, 0, 0, 0, 0, 0, 0, 0, 0, 0, 0, 0, 0, 0, 0, 0, 0, 0, 0, 0, 0, 0, 0, 0, 0, 0, 0, 0, 0, 0, 0, 0, 0, 0, 0, 0, 0, 0, 0, 0, 0, 0, 0, 0, 0, 0, 0, 0, 0, 0, 0, 0, 0, 0, 0, 0, 0, 0, 0, 0, 0, 0, 0, 0, 0, 0, 0, 0, 0, 0, 0, 0, 0, 0, 0, 0, 0, 0, 0, 0, 0, 0, 0, 0, 0, 0, 0, 0, 0, 0, 0, 0, 0, 0, 0, 0, 0, 0, 0, 0, 0, 0, 0, 0, 0, 0, 0, 0, 0, 0, 0, 0, 0, 0, 0, 0, 0, 0, 0, 0, 0, 0, 0, 0, 0, 0, 0, 0, 0, 0, 0, 0, 0, 0, 0, 0, 0, 0, 0, 0, 0, 0, 0, 0, 0, 0, 0, 0, 0, 0, 0, 0, 0, 0, 0, 0, 0, 0, 0, 0, 0, 0, 0, 0, 0, 0, 0, 0, 0, 0, 0, 0, 0, 0, 0, 0, 0, 0, 0, 0, 0, 0, 0, 0, 0, 0, 0, 0, 0, 0, 0, 0, 0, 0, 0, 0, 0, 0, 0, 0, 0, 0, 0, 0, 0, 0, 0, 0, 0, 0, 0, 0, 0, 0, 0, 0, 0, 0, 0, 0, 0, 0, 0, 0, 0, 0, 0, 0, 0, 0, 0, 0, 0, 0, 0, 0, 0, 0, 0, 0, 0, 0, 0, 0, 0, 0, 0, 0, 0, 0, 0, 0, 0, 0, 0, 0, 0, 0, 0, 0, 0, 0, 0, 0, 0, 0, 0, 0, 0, 0, 0, 0, 0, 0, 0, 0, 0, 0, 0, 0, 0, 0, 0, 0, 0, 0, 0, 0, 0, 0, 0, 0, 0, 0, 0, 0, 0, 0, 0, 0, 0, 0, 0, 0, 0, 0, 0, 0, 0, 0, 0, 0, 0, 0, 0, 0, 0, 0, 0, 0, 0, 0, 0, 0, 0, 0, 0, 0, 0, 0, 0, 0, 0, 0, 0, 0, 0, 0, 0, 0, 0, 0, 0, 0, 0, 0, 0, 0, 0, 0, 0, 0, 0, 0, 0, 0, 0, 0, 0, 0, 0, 0, 0, 0, 0, 0, 0, 0, 0, 0, 0, 0, 0, 0, 0, 0, 0, 0, 0, 0, 0, 0, 0, 0, 0, 0, 0, 0, 0, 0, 0, 0, 0, 0, 0, 0, 0, 0, 0, 0, 0, 0, 0, 0, 0, 0, 0, 0, 0, 0, 0, 0, 0, 0, 0, 0, 0, 0, 0, 0, 0, 0, 0, 0, 0, 0, 0, 0, 0, 0, 0, 0, 0, 0, 0, 0, 0, 0, 0, 0, 0, 0, 0, 0, 0, 0, 0, 0, 0, 0, 0, 0, 0, 0, 0, 0, 0, 0, 0, 0, 0, 0, 0, 0, 0, 0, 0, 0, 0, 0, 0, 0, 0, 0, 0, 0, 0, 0, 0, 0, 0, 0, 0, 0, 0, 0, 0, 0, 0, 0, 0, 0, 0, 0, 0, 0, 0, 0, 0, 0, 0, 0, 0, 0, 0, 0, 0, 0, 0, 0, 0, 0, 0, 0, 0, 0, 0, 0, 0, 0, 0, 0, 0, 0, 0, 0, 0, 0, 0, 0, 0, 0, 0, 0, 0, 0, 0, 0, 0, 0, 0, 0, 0, 0, 0, 0, 0, 0, 0, 0, 0, 0, 0, 0, 0, 0, 0, 0, 0, 0, 0, 0, 0, 0, 0, 0, 0, 0, 0, 0, 0, 0, 0, 0, 0, 0, 0, 0, 0, 0, 0, 0, 0, 0, 0, 0, 0, 0, 0, 0, 0, 0, 0, 0, 0, 0, 0, 0, 0, 0, 0, 0, 0, 0, 0, 0, 0, 0, 0, 0, 0, 0, 0, 0, 0, 0, 0, 0, 0, 0, 0, 0, 0, 0, 0, 0, 0, 0, 0, 0, 0, 0, 0, 0, 0, 0, 0, 0, 0, 0, 0, 0, 0, 0, 0, 0, 0, 0, 0, 0, 0, 0, 0, 0, 0, 0, 0, 0, 0, 0, 0, 0, 0, 0, 0, 0, 0, 0, 0, 0, 0, 0, 0, 0, 0, 0, 0, 0, 0, 0, 0, 0, 0, 0, 0, 0, 0, 0, 0, 0, 0, 0, 0, 0, 0, 0, 0, 0, 0, 0, 0, 0, 0, 0, 0, 0, 0, 0, 0, 0, 0, 0, 0, 0, 0, 0, 0, 0, 0, 0, 0, 0, 0, 0, 0, 0, 0, 0, 0, 0, 0, 0, 0, 0, 0, 0, 0, 0, 0, 0, 0, 0, 0, 0, 0, 0, 0, 0, 0, 0, 0, 0, 0, 0, 0, 0, 0, 0, 0, 0, 0, 0, 0, 0, 0, 0, 0, 0, 0, 0, 0, 0, 0, 0, 0, 0, 0, 0, 0, 0, 0, 0, 0, 0, 0, 0, 0, 0, 0, 0, 0, 0, 0, 0, 0, 0, 0, 0, 0, 0, 0, 0, 0, 0, 0, 0, 0, 0, 0, 0, 0, 0, 0, 0, 0, 0, 0, 0, 0, 0, 0, 0, 0, 0, 0, 0, 0, 0, 0, 0, 0, 0, 0, 0, 0, 0, 0, 0, 0, 0, 0, 0, 0, 0, 0, 0, 0, 0, 0, 0, 0, 0, 0, 0, 0, 0, 0, 0, 0, 0, 0, 0, 0, 0, 0, 0, 0, 0, 0, 0, 0, 0, 0, 0, 0, 0, 0, 0, 0, 0, 0, 0, 0, 0, 0, 0, 0, 0, 0, 0, 0, 0, 0, 0, 0, 0, 0, 0, 0, 0, 0, 0, 0, 0, 0, 0, 0, 0, 0, 0, 0, 0, 0, 0, 0, 0, 0, 0, 0, 0, 0, 0, 0, 0, 0, 0, 0, 0, 0, 0, 0, 0, 0, 0, 0, 0, 0, 0, 0, 0, 0, 0, 0, 0, 0, 0, 0, 0, 0, 0, 0, 0, 0, 0, 0, 0, 0, 0, 0, 0, 0, 0, 0, 0, 0, 0, 0, 0, 0, 0, 0, 0, 0, 0, 0, 0, 0, 0, 0, 0, 0, 0, 0, 0, 0, 0, 0, 0, 0, 0, 0, 0, 0, 0, 0, 0, 0, 0, 0, 0, 0, 0, 0, 0, 0, 0, 0, 0, 0, 0, 0, 0, 0, 0, 0, 0, 0, 0, 0, 0, 0, 0, 0, 0, 0, 0, 0, 0, 0, 0, 0, 0, 0, 0, 0, 0, 0, 0, 0, 0, 0, 0, 0, 0, 0, 0, 0, 0, 0, 0, 0, 0, 0, 0, 0, 0, 0, 0, 0, 0, 0, 0, 0, 0, 0, 0, 0, 0, 0, 0, 0, 0, 0, 0, 0, 0, 0, 0, 0, 0, 0, 0, 0, 0, 0, 0, 0, 0, 0, 0, 0, 0, 0, 0, 0, 0, 0, 0, 0, 0, 0, 0, 0, 0, 0, 0, 0, 0, 0, 0, 0, 0, 0, 0, 0, 0, 0, 0, 0, 0, 0, 0, 0, 0, 0, 0, 0, 0, 0, 0, 0, 0, 0, 0, 0, 0, 0, 0, 0, 0, 0, 0, 0, 0, 0, 0, 0, 0, 0, 0, 0, 0, 0, 0, 0, 0, 0, 0, 0, 0, 0, 0, 0, 0, 0, 0, 0, 0, 0, 0, 0, 0, 0, 0, 0, 0, 0, 0, 0, 0, 0, 0, 0, 0, 0, 0, 0, 0, 0, 0, 0, 0, 0, 0, 0, 0, 0, 0, 0, 0, 0, 0, 0, 0, 0, 0, 0, 0, 0, 0, 0, 0, 0, 0, 0, 0, 0, 0, 0, 0, 0, 0, 0, 0, 0, 0, 0, 0, 0, 0, 0, 0, 0, 0, 0, 0, 0, 0, 0, 0, 0, 0, 0, 0, 0, 0, 0, 0, 0, 0, 0, 0, 0, 0, 0, 0, 0, 0, 0, 0, 0, 0, 0, 0, 0, 0, 0, 0, 0, 0, 0, 0, 0, 0, 0, 0, 0, 0, 0, 0, 0, 0, 0, 0, 0, 0, 0, 0, 0, 0, 0, 0, 0, 0, 0, 0, 0, 0, 0, 0, 0, 0, 0, 0, 0, 0, 0, 0, 0, 0, 0, 0, 0, 0, 0, 0, 0, 0, 0, 0, 0, 0, 0, 0, 0, 0, 0, 0, 0, 0, 0, 0, 0, 0, 0, 0, 0, 0, 0, 0, 0, 0, 0, 0, 0, 0, 0, 0, 0, 0, 0, 0, 0, 0, 0, 0, 0, 0, 0, 0, 0, 0, 0, 0, 0, 0, 0, 0, 0, 0, 0, 0, 0, 0, 0, 0, 0, 0, 0, 0, 0, 0, 0, 0, 0, 0, 0, 0, 0, 0, 0, 0, 0, 0, 0, 0, 0, 0, 0, 0, 0, 0, 0, 0, 0, 0, 0, 0, 0, 0, 0, 0, 0, 0, 0, 0, 0, 0, 0, 0, 0, 0, 0, 0, 0, 0, 0, 0, 0, 0, 0, 0, 0, 0, 0, 0, 0, 0, 0, 0, 0, 0, 0, 0, 0, 0, 0, 0, 0, 0, 0, 0, 0, 0, 0, 0, 0, 0, 0, 0, 0, 0, 0, 0, 0, 0, 0, 0, 0, 0, 0, 0, 0, 0, 0, 0, 0, 0, 0, 0, 0, 0, 0, 0, 0, 0, 0, 0, 0, 0, 0, 0, 0, 0, 0, 0, 0, 0, 0, 0, 0, 0, 0, 0, 0, 0, 0, 0, 0, 0, 0, 0, 0, 0, 0, 0, 0, 0, 0, 0, 0, 0, 0, 0, 0, 0, 0, 0, 0, 0, 0, 0, 0, 0, 0, 0, 0, 0, 0, 0, 0, 0, 0, 0, 0, 0, 0, 0, 0, 0, 0, 0, 0, 0, 0, 0, 0, 0, 0, 0, 0, 0, 0, 0, 0, 0, 0, 0, 0, 0, 0, 0, 0, 0, 0, 0, 0, 0, 0, 0, 0, 0, 0, 0, 0, 0, 0, 0, 0, 0, 0, 0, 0, 0, 0, 0, 0, 0, 0, 0, 0, 0, 0, 0, 0, 0, 0, 0, 0, 0, 0, 0, 0, 0, 0, 0, 0, 0, 0, 0, 0, 0, 0, 0, 0, 0, 0, 0, 0, 0, 0, 0, 0, 0, 0, 0, 0, 0, 0, 0, 0, 0, 0, 0, 0, 0, 0, 0, 0, 0, 0, 0, 0, 0, 0, 0, 0, 0, 0, 0, 0, 0, 0, 0, 0, 0, 0, 0, 0, 0, 0, 0, 0, 0, 0, 0, 0, 0, 0, 0, 0, 0, 0, 0, 0, 0, 0, 0, 0, 0, 0, 0, 0, 0, 0, 0, 0, 0, 0, 0, 0, 0, 0, 0, 0, 0, 0, 0, 0, 0, 0, 0, 0, 0, 0, 0, 0, 0, 0, 0, 0, 0, 0, 0, 0, 0, 0, 0, 0, 0, 0, 0, 0, 0, 0, 0, 0, 0, 0, 0, 0, 0, 0, 0, 0, 0, 0, 0, 0, 0, 0, 0, 0, 0, 0, 0, 0, 0, 0, 0, 0, 0, 0, 0, 0, 0, 0, 0, 0, 0, 0, 0, 0, 0, 0, 0, 0, 0, 0, 0, 0, 0, 0, 0, 0, 0, 0, 0, 0, 0, 0, 0, 0, 0, 0, 0, 0, 0, 0, 0, 0, 0, 0, 0, 0, 0, 0, 0, 0, 0, 0, 0, 0, 0, 0, 0, 0, 0, 0, 0, 0, 0, 0, 0, 0, 0, 0, 0, 0, 0, 0, 0, 0, 0, 0, 0, 0, 0, 0, 0, 0, 0, 0, 0, 0, 0, 0, 0, 0, 0, 0, 0, 0, 0, 0, 0, 0, 0, 0, 0, 0, 0, 0, 0, 0, 0, 0, 0, 0, 0, 0, 0, 0, 0, 0, 0, 0, 0, 0, 0, 0, 0, 0, 0, 0, 0, 0, 0, 0, 0, 0, 0, 0, 0, 0, 0, 0, 0, 0, 0, 0, 0, 0, 0, 0, 0, 0, 0, 0, 0, 0, 0, 0, 0, 0, 0, 0, 0, 0, 0, 0, 0, 0, 0, 0, 0, 0, 0, 0, 0, 0, 0, 0, 0, 0, 0, 0, 0, 0, 0, 0, 0, 0, 0, 0, 0, 0, 0, 0, 0, 0, 0, 0, 0, 0, 0, 0, 0, 0, 0, 0, 0, 0, 0, 0, 0, 0, 0, 0, 0, 0, 0, 0, 0, 0, 0, 0, 0, 0, 0, 0, 0, 0, 0, 0, 0, 0, 0, 0, 0, 0, 0, 0, 0, 0, 0, 0, 0, 0, 0, 0, 0, 0, 0, 0, 0, 0, 0, 0, 0, 0, 0, 0, 0, 0, 0, 0, 0, 0, 0, 0, 0, 0, 0, 0, 0, 0, 0, 0, 0, 0, 0, 0, 0, 0, 0, 0, 0, 0, 0, 0, 0, 0, 0, 0, 0, 0, 0, 0, 0, 0, 0, 0, 0, 0, 0, 0, 0, 0, 0, 0, 0, 0, 0, 0, 0, 0, 0, 0, 0, 0, 0, 0, 0, 0, 0, 0, 0, 0, 0, 0, 0, 0, 0, 0, 0, 0, 0, 0, 0, 0, 0, 0, 0, 0, 0, 0, 0, 0, 0, 0, 0, 0, 0, 0, 0, 0, 0, 0, 0, 0, 0, 0, 0, 0, 0, 0, 0, 0, 0, 0, 0, 0, 0, 0, 0, 0, 0, 0, 0, 0, 0, 0, 0, 0, 0, 0, 0, 0, 0, 0, 0, 0, 0, 0, 0, 0, 0, 0, 0, 0, 0, 0, 0, 0, 0, 0, 0, 0, 0, 0, 0, 0, 0, 0, 0, 0, 0, 0, 0, 0, 0, 0, 0, 0, 0, 0, 0, 0, 0, 0, 0, 0, 0, 0, 0, 0, 0, 0, 0, 0, 0, 0, 0, 0, 0, 0, 0, 0, 0, 0, 0, 0, 0, 0, 0, 0, 0, 0, 0, 0, 0, 0, 0, 0, 0, 0, 0, 0, 0, 0, 0, 0, 0, 0, 0, 0, 0, 0, 0, 0, 0, 0, 0, 0, 0, 0, 0, 0, 0, 0, 0, 0, 0, 0, 0, 0, 0, 0, 0, 0, 0, 0, 0, 0, 0, 0, 0, 0, 0, 0, 0, 0, 0, 0, 0, 0, 0, 0, 0, 0, 0, 0, 0, 0, 0, 0, 0, 0, 0, 0, 0, 0, 0, 0, 0, 0, 0, 0, 0, 0, 0, 0, 0, 0, 0, 0, 0, 0, 0, 0, 0, 0, 0, 0, 0, 0, 0, 0, 0, 0, 0, 0, 0, 0, 0, 0, 0, 0, 0, 0, 0, 0, 0, 0, 0, 0, 0, 0, 0, 0, 0, 0, 0, 0, 0, 0, 0, 0, 0, 0, 0, 0, 0, 0, 0, 0, 0, 0, 0, 0, 0, 0, 0, 0, 0, 0, 0, 0, 0, 0, 0, 0, 0, 0, 0, 0, 0, 0, 0, 0, 0, 0, 0, 0, 0, 0, 0, 0, 0, 0, 0, 0, 0, 0, 0, 0, 0, 0, 0, 0, 0, 0, 0, 0, 0, 0, 0, 0, 0, 0, 0, 0, 0, 0, 0, 0, 0, 0, 0, 0, 0, 0, 0, 0, 0, 0, 0, 0, 0, 0, 0, 0, 0, 0, 0, 0, 0, 0, 0, 0, 0, 0, 0, 0, 0, 0, 0, 0, 0, 0, 0, 0, 0, 0, 0, 0, 0, 0, 0, 0, 0, 0, 0, 0, 0, 0, 0, 0, 0, 0, 0, 0, 0, 0, 0, 0, 0, 0, 0, 0, 0, 0, 0, 0, 0, 0, 0, 0, 0, 0, 0, 0, 0, 0, 0, 0, 0, 0, 0, 0, 0, 0, 0, 0, 0, 0, 0, 0, 0, 0, 0, 0, 0, 0, 0, 0, 0, 0, 0, 0, 0, 0, 0, 0, 0, 0, 0, 0, 0, 0, 0, 0, 0, 0, 0, 0, 0, 0, 0, 0, 0, 0, 0, 0, 0, 0, 0, 0, 0, 0, 0, 0, 0, 0, 0, 0, 0, 0, 0, 0, 0, 0, 0, 0, 0, 0, 0, 0, 0, 0, 0, 0, 0, 0, 0, 0, 0, 0, 0, 0, 0, 0, 0, 0, 0, 0, 0, 0, 0, 0, 0, 0, 0, 0, 0, 0, 0, 0, 0, 0, 0, 0, 0, 0, 0, 0, 0, 0, 0, 0, 0, 0, 0, 0, 0, 0, 0, 0, 0, 0, 0, 0, 0, 0, 0, 0, 0, 0, 0, 0, 0, 0, 0, 0, 0, 0, 0, 0, 0, 0, 0, 0, 0, 0, 0, 0, 0, 0, 0, 0, 0, 0, 0, 0, 0, 0, 0, 0, 0, 0, 0, 0, 0, 0, 0, 0, 0, 0, 0, 0, 0, 0, 0, 0, 0, 0, 0, 0, 0, 0, 0, 0, 0, 0, 0, 0, 0, 0, 0, 0, 0, 0, 0, 0, 0, 0, 0, 0, 0, 0, 0, 0, 0, 0, 0, 0, 0, 0, 0, 0, 0, 0, 0, 0, 0, 0, 0, 0, 0, 0, 0, 0, 0, 0, 0, 0, 0, 0, 0, 0, 0, 0, 0, 0, 0, 0, 0, 0, 0, 0, 0, 0, 0, 0, 0, 0, 0, 0, 0, 0, 0, 0, 0, 0, 0, 0, 0, 0, 0, 0, 0, 0, 0, 0, 0, 0, 0, 0, 0, 0, 0, 0, 0, 0, 0, 0, 0, 0, 0, 0, 0, 0, 0, 0, 0, 0, 0, 0, 0, 0, 0, 0, 0, 0, 0, 0, 0, 0, 0, 0, 0, 0, 0, 0, 0, 0, 0, 0, 0, 0, 0, 0, 0, 0, 0, 0, 0, 0, 0, 0, 0, 0, 0, 0, 0, 0, 0, 0, 0, 0, 0, 0, 0, 0, 0, 0, 0, 0, 0, 0, 0, 0, 0, 0, 0, 0, 0, 0, 0, 0, 0, 0, 0, 0, 0, 0, 0, 0, 0, 0, 0, 0, 0, 0, 0, 0, 0, 0, 0, 0, 0, 0, 0, 0, 0, 0, 0, 0, 0, 0, 0, 0, 0, 0, 0, 0, 0, 0, 0, 0, 0, 0, 0, 0, 0, 0, 0, 0, 0, 0, 0, 0, 0, 0, 0, 0, 0, 0, 0, 0, 0, 0, 0, 0, 0, 0, 0, 0, 0, 0, 0, 0, 0, 0, 0, 0, 0, 0, 0, 0, 0, 0, 0, 0, 0, 0, 0, 0, 0, 0, 0, 0, 0, 0, 0, 0, 0, 0, 0, 0, 0, 0, 0, 0, 0, 0, 0, 0, 0, 0, 0, 0, 0, 0, 0, 0, 0, 0, 0, 0, 0, 0, 0, 0, 0, 0, 0, 0, 0, 0, 0, 0, 0, 0, 0, 0, 0, 0, 0, 0, 0, 0, 0, 0, 0, 0, 0, 0, 0, 0, 0, 0, 0, 0, 0, 0, 0, 0, 0, 0, 0, 0, 0, 0, 0, 0, 0, 0, 0, 0, 0, 0, 0, 0, 0, 0, 0, 0, 0, 0, 0, 0, 0, 0, 0, 0, 0, 0, 0, 0, 0, 0, 0, 0, 0, 0, 0, 0, 0, 0, 0, 0, 0, 0, 0, 0, 0, 0, 0, 0, 0, 0, 0, 0, 0, 0, 0, 0, 0, 0, 0, 0, 0, 0, 0, 0, 0, 0, 0, 0, 0, 0, 0, 0, 0, 0, 0, 0, 0, 0, 0, 0, 0, 0, 0, 0, 0, 0, 0, 0, 0, 0, 0, 0, 0, 0, 0, 0, 0, 0, 0, 0, 0, 0, 0, 0, 0, 0, 0, 0, 0, 0, 0, 0, 0, 0, 0, 0, 0, 0, 0, 0, 0, 0, 0, 0, 0, 0, 0, 0, 0, 0, 0, 0, 0, 0, 0, 0, 0, 0, 0, 0, 0, 0, 0, 0, 0, 0, 0, 0, 0, 0, 0, 0, 0, 0, 0, 0, 0, 0, 0, 0, 0, 0, 0, 0, 0, 0, 0, 0, 0, 0, 0, 0, 0, 0, 0, 0, 0, 0, 0, 0, 0, 0, 0, 0, 0, 0, 0, 0, 0, 0, 0, 0, 0, 0, 0, 0, 0, 0, 0, 0, 0, 0, 0, 0, 0, 0, 0, 0, 0, 0, 0, 0, 0, 0, 0, 0, 0, 0, 0, 0, 0, 0, 0, 0, 0, 0, 0, 0, 0, 0, 0, 0, 0, 0, 0, 0, 0, 0, 0, 0, 0, 0, 0, 0, 0, 0, 0, 0, 0, 0, 0, 0, 0, 0, 0, 0, 0, 0, 0, 0, 0, 0, 0, 0, 0, 0, 0, 0, 0, 0, 0, 0, 0, 0, 0, 0, 0, 0, 0, 0, 0, 0, 0, 0, 0, 0, 0, 0, 0, 0, 0, 0, 0, 0, 0, 0, 0, 0, 0, 0, 0, 0, 0, 0, 0, 0, 0, 0, 0, 0, 0, 0, 0, 0, 0, 0, 0, 0, 0, 0, 0, 0, 0, 0, 0, 0, 0, 0, 0, 0, 0, 0, 0, 0, 0, 0, 0, 0, 0, 0, 0, 0, 0, 0, 0, 0, 0, 0, 0, 0, 0, 0, 0, 0, 0, 0, 0, 0, 0, 0, 0, 0, 0, 0, 0, 0, 0, 0, 0, 0, 0, 0, 0, 0, 0, 0, 0, 0, 0, 0, 0, 0, 0, 0, 0, 0, 0, 0, 0, 0, 0, 0, 0, 0, 0, 0, 0, 0, 0, 0, 0, 0, 0, 0, 0, 0, 0, 0, 0, 0, 0, 0, 0, 0, 0, 0, 0, 0, 0, 0, 0, 0, 0, 0, 0, 0, 0, 0, 0, 0, 0, 0, 0, 0, 0, 0, 0, 0, 0, 0, 0, 0, 0, 0, 0, 0, 0, 0, 0, 0, 0, 0, 0, 0, 0, 0, 0, 0, 0, 0, 0, 0, 0, 0, 0, 0, 0, 0, 0, 0, 0, 0, 0, 0, 0, 0, 0, 0, 0, 0, 0, 0, 0, 0, 0, 0, 0, 0, 0, 0, 0, 0]\n",
            "55.0\n"
          ],
          "name": "stdout"
        }
      ]
    },
    {
      "cell_type": "markdown",
      "metadata": {
        "id": "u2CBNwWUS2VI"
      },
      "source": [
        "## Model"
      ]
    },
    {
      "cell_type": "code",
      "metadata": {
        "id": "fq8edH2BzK7_",
        "colab": {
          "base_uri": "https://localhost:8080/",
          "height": 952
        },
        "outputId": "7609ec14-5df0-4824-bbc3-a237c4f8ccf3"
      },
      "source": [
        "# 1D CNN model\n",
        "\n",
        "smiles_input = layers.Input(shape=(max_smiles,), dtype='int32', name='smiles_input')\n",
        "\n",
        "# encode the input sequence into a sequence of dense n-dimensional vectors\n",
        "embed_smiles = layers.Embedding(output_dim=128, input_dim=elements, input_length=max_smiles)(smiles_input) \n",
        "\n",
        "# use 1-D convolutional filters to transform the vector sequence into a single vector containing information about the entire sequence\n",
        "conv1_smiles = layers.Conv1D(filters=32, kernel_size=3, padding='SAME', input_shape=(batch_siz, max_smiles))(embed_smiles)\n",
        "activation1_smiles = layers.PReLU()(conv1_smiles)\n",
        "conv2_smiles = layers.Conv1D(filters=64, kernel_size=3, padding='SAME')(activation1_smiles)\n",
        "activation2_smiles = layers.PReLU()(conv2_smiles)\n",
        "conv3_smiles = layers.Conv1D(filters=128, kernel_size=3, padding='SAME')(activation2_smiles)\n",
        "activation3_smiles = layers.PReLU()(conv3_smiles)\n",
        "# create vector for dense layers by applying pooling on the spatial dimensions until each spatial dimension is one \n",
        "global_pool_smiles = layers.GlobalMaxPooling1D()(activation3_smiles)\n",
        "\n",
        "fasta_input = layers.Input(shape=(max_fasta,), dtype='int32', name='fasta_input')\n",
        "\n",
        "# encode the input sequence into a sequence of dense n-dimensional vectors\n",
        "embed_fasta = layers.Embedding(output_dim=256, input_dim=aminos, input_length=max_fasta)(fasta_input)\n",
        "\n",
        "# use 1-D convolutional filters to transform the vector sequence into a single vector containing information about the entire sequence\n",
        "conv1_fasta = layers.Conv1D(filters=32, kernel_size=3, padding='SAME', input_shape=(batch_siz, max_fasta))(embed_fasta)\n",
        "activation1_fasta = layers.PReLU()(conv1_fasta)\n",
        "conv2_fasta = layers.Conv1D(filters=64, kernel_size=3, padding='SAME')(activation1_fasta)\n",
        "activation2_fasta = layers.PReLU()(conv2_fasta)\n",
        "conv3_fasta = layers.Conv1D(filters=128, kernel_size=3, padding='SAME')(activation2_fasta)\n",
        "activation3_fasta = layers.PReLU()(conv3_fasta)\n",
        "# create vector for dense layers by applying pooling on the spatial dimensions until each spatial dimension is one \n",
        "global_pool_fasta = layers.GlobalMaxPooling1D()(activation3_fasta)\n",
        "\n",
        "# merge both smiles and fasta\n",
        "concat_pools = layers.concatenate([global_pool_smiles, global_pool_fasta])\n",
        "\n",
        "# dense layers \n",
        "dense1 = layers.Dense(1024, activation='relu')(concat_pools)\n",
        "dropout1_dense = layers.Dropout(0.1)(dense1)\n",
        "dense2 = layers.Dense(512, activation='relu')(dropout1_dense)\n",
        "\n",
        "# output\n",
        "output = layers.Dense(1, name='output', activation=\"relu\", kernel_initializer=\"normal\")(dense2) # relu range (0, inf) --> matches labels because the data only contains positive IC50 values\n",
        "\n",
        "model = Model(inputs=[smiles_input, fasta_input], outputs=[output])\n",
        "\n",
        "model.summary()"
      ],
      "execution_count": null,
      "outputs": [
        {
          "output_type": "stream",
          "text": [
            "Model: \"model_1\"\n",
            "__________________________________________________________________________________________________\n",
            "Layer (type)                    Output Shape         Param #     Connected to                     \n",
            "==================================================================================================\n",
            "smiles_input (InputLayer)       [(None, 100)]        0                                            \n",
            "__________________________________________________________________________________________________\n",
            "fasta_input (InputLayer)        [(None, 5000)]       0                                            \n",
            "__________________________________________________________________________________________________\n",
            "embedding_2 (Embedding)         (None, 100, 128)     6144        smiles_input[0][0]               \n",
            "__________________________________________________________________________________________________\n",
            "embedding_3 (Embedding)         (None, 5000, 256)    5888        fasta_input[0][0]                \n",
            "__________________________________________________________________________________________________\n",
            "conv1d_6 (Conv1D)               (None, 98, 32)       12320       embedding_2[0][0]                \n",
            "__________________________________________________________________________________________________\n",
            "conv1d_9 (Conv1D)               (None, 4998, 32)     24608       embedding_3[0][0]                \n",
            "__________________________________________________________________________________________________\n",
            "p_re_lu_6 (PReLU)               (None, 98, 32)       3136        conv1d_6[0][0]                   \n",
            "__________________________________________________________________________________________________\n",
            "p_re_lu_9 (PReLU)               (None, 4998, 32)     159936      conv1d_9[0][0]                   \n",
            "__________________________________________________________________________________________________\n",
            "conv1d_7 (Conv1D)               (None, 96, 64)       6208        p_re_lu_6[0][0]                  \n",
            "__________________________________________________________________________________________________\n",
            "conv1d_10 (Conv1D)              (None, 4996, 64)     6208        p_re_lu_9[0][0]                  \n",
            "__________________________________________________________________________________________________\n",
            "p_re_lu_7 (PReLU)               (None, 96, 64)       6144        conv1d_7[0][0]                   \n",
            "__________________________________________________________________________________________________\n",
            "p_re_lu_10 (PReLU)              (None, 4996, 64)     319744      conv1d_10[0][0]                  \n",
            "__________________________________________________________________________________________________\n",
            "conv1d_8 (Conv1D)               (None, 94, 128)      24704       p_re_lu_7[0][0]                  \n",
            "__________________________________________________________________________________________________\n",
            "conv1d_11 (Conv1D)              (None, 4994, 128)    24704       p_re_lu_10[0][0]                 \n",
            "__________________________________________________________________________________________________\n",
            "p_re_lu_8 (PReLU)               (None, 94, 128)      12032       conv1d_8[0][0]                   \n",
            "__________________________________________________________________________________________________\n",
            "p_re_lu_11 (PReLU)              (None, 4994, 128)    639232      conv1d_11[0][0]                  \n",
            "__________________________________________________________________________________________________\n",
            "global_max_pooling1d_2 (GlobalM (None, 128)          0           p_re_lu_8[0][0]                  \n",
            "__________________________________________________________________________________________________\n",
            "global_max_pooling1d_3 (GlobalM (None, 128)          0           p_re_lu_11[0][0]                 \n",
            "__________________________________________________________________________________________________\n",
            "concatenate_1 (Concatenate)     (None, 256)          0           global_max_pooling1d_2[0][0]     \n",
            "                                                                 global_max_pooling1d_3[0][0]     \n",
            "__________________________________________________________________________________________________\n",
            "dense_2 (Dense)                 (None, 1024)         263168      concatenate_1[0][0]              \n",
            "__________________________________________________________________________________________________\n",
            "dropout_1 (Dropout)             (None, 1024)         0           dense_2[0][0]                    \n",
            "__________________________________________________________________________________________________\n",
            "dense_3 (Dense)                 (None, 512)          524800      dropout_1[0][0]                  \n",
            "__________________________________________________________________________________________________\n",
            "output (Dense)                  (None, 1)            513         dense_3[0][0]                    \n",
            "==================================================================================================\n",
            "Total params: 2,039,489\n",
            "Trainable params: 2,039,489\n",
            "Non-trainable params: 0\n",
            "__________________________________________________________________________________________________\n"
          ],
          "name": "stdout"
        }
      ]
    },
    {
      "cell_type": "code",
      "metadata": {
        "id": "-KZSPGs8RMcB"
      },
      "source": [
        "tf.keras.utils.plot_model(model, to_file='model.png', show_shapes=False, show_layer_names=True, rankdir='TB', expand_nested=False, dpi=96)"
      ],
      "execution_count": null,
      "outputs": []
    },
    {
      "cell_type": "code",
      "metadata": {
        "id": "fclbojJqJDRZ"
      },
      "source": [
        "# loss function\n",
        "def root_mean_squared_error(y_true, y_pred):\n",
        "    return K.sqrt(mean_squared_error(y_true, y_pred))\n",
        "\n",
        "# accuracy metric\n",
        "def r2_score(y_true, y_pred):\n",
        "    SS_res = K.sum(K.square(y_true - y_pred)) \n",
        "    SS_tot = K.sum(K.square(y_true - K.mean(y_true))) \n",
        "    return (1-SS_res/(SS_tot)+K.epsilon())\n",
        "\n",
        "# compile model\n",
        "model.compile(optimizer = 'adam', \n",
        "              loss = {'output': 'mae'}, # 'mse', 'mae', root_mean_squared_error\n",
        "              metrics = {'output': r2_score}) "
      ],
      "execution_count": null,
      "outputs": []
    },
    {
      "cell_type": "markdown",
      "metadata": {
        "id": "eQL3GRe7c3-z"
      },
      "source": [
        "## Callbacks"
      ]
    },
    {
      "cell_type": "code",
      "metadata": {
        "id": "uDc6iQYPWpeS"
      },
      "source": [
        "# checkpointer\n",
        "save_model_path = \"affinity-best.hdf5\"\n",
        "checkpoint = ModelCheckpoint(save_model_path, \n",
        "                             monitor='val_loss', \n",
        "                             verbose=1,        \n",
        "                             save_best_only=True)"
      ],
      "execution_count": null,
      "outputs": []
    },
    {
      "cell_type": "markdown",
      "metadata": {
        "id": "mOzpO7_IS5ms"
      },
      "source": [
        "## Train on Batches"
      ]
    },
    {
      "cell_type": "code",
      "metadata": {
        "id": "B40C2RuuSBvi"
      },
      "source": [
        "epochs = 100\n",
        "\n",
        "for epoch in range(epochs):\n",
        "\n",
        "    print(\"\\nStarting Epoch\", epoch+1, \"\\n\")\n",
        "\n",
        "    train_index_start = 0\n",
        "    train_index_end = batch_siz\n",
        "    while train_index_end < num_train:\n",
        "\n",
        "        x_train_smiles, x_train_fasta, y_train = get_data(train_all[train_index_start:train_index_end])\n",
        "\n",
        "        # fit model\n",
        "        model.fit({'smiles_input': np.array(x_train_smiles), \n",
        "                   'fasta_input': np.array(x_train_fasta)},\n",
        "                  {'output': np.array(y_train)},\n",
        "                  validation_data=({'smiles_input': np.array(x_valid_smiles), \n",
        "                                    'fasta_input': np.array(x_valid_fasta)},\n",
        "                  {'output': np.array(y_valid)}),\n",
        "                  callbacks=[checkpoint],\n",
        "                  epochs=1, \n",
        "                  batch_size=64)\n",
        "        \n",
        "        train_index_start += batch_siz\n",
        "        train_index_end += batch_siz"
      ],
      "execution_count": null,
      "outputs": []
    },
    {
      "cell_type": "code",
      "metadata": {
        "id": "Th_zo57cIM8Y",
        "colab": {
          "base_uri": "https://localhost:8080/",
          "height": 34
        },
        "outputId": "5d01d228-ac3b-466b-ba71-a5fc1dbaf720"
      },
      "source": [
        "files.download(save_model_path)"
      ],
      "execution_count": null,
      "outputs": [
        {
          "output_type": "display_data",
          "data": {
            "application/javascript": [
              "\n",
              "    async function download(id, filename, size) {\n",
              "      if (!google.colab.kernel.accessAllowed) {\n",
              "        return;\n",
              "      }\n",
              "      const div = document.createElement('div');\n",
              "      const label = document.createElement('label');\n",
              "      label.textContent = `Downloading \"${filename}\": `;\n",
              "      div.appendChild(label);\n",
              "      const progress = document.createElement('progress');\n",
              "      progress.max = size;\n",
              "      div.appendChild(progress);\n",
              "      document.body.appendChild(div);\n",
              "\n",
              "      const buffers = [];\n",
              "      let downloaded = 0;\n",
              "\n",
              "      const channel = await google.colab.kernel.comms.open(id);\n",
              "      // Send a message to notify the kernel that we're ready.\n",
              "      channel.send({})\n",
              "\n",
              "      for await (const message of channel.messages) {\n",
              "        // Send a message to notify the kernel that we're ready.\n",
              "        channel.send({})\n",
              "        if (message.buffers) {\n",
              "          for (const buffer of message.buffers) {\n",
              "            buffers.push(buffer);\n",
              "            downloaded += buffer.byteLength;\n",
              "            progress.value = downloaded;\n",
              "          }\n",
              "        }\n",
              "      }\n",
              "      const blob = new Blob(buffers, {type: 'application/binary'});\n",
              "      const a = document.createElement('a');\n",
              "      a.href = window.URL.createObjectURL(blob);\n",
              "      a.download = filename;\n",
              "      div.appendChild(a);\n",
              "      a.click();\n",
              "      div.remove();\n",
              "    }\n",
              "  "
            ],
            "text/plain": [
              "<IPython.core.display.Javascript object>"
            ]
          },
          "metadata": {
            "tags": []
          }
        },
        {
          "output_type": "display_data",
          "data": {
            "application/javascript": [
              "download(\"download_62ce7a35-c27b-4c2f-b802-60a6d3857c18\", \"affinity-best.hdf5\", 24578504)"
            ],
            "text/plain": [
              "<IPython.core.display.Javascript object>"
            ]
          },
          "metadata": {
            "tags": []
          }
        }
      ]
    },
    {
      "cell_type": "markdown",
      "metadata": {
        "id": "qO2JNG40TC9t"
      },
      "source": [
        "## Make Predictions"
      ]
    },
    {
      "cell_type": "code",
      "metadata": {
        "id": "duAy7tukOuyX"
      },
      "source": [
        "model.load_weights(save_model_path)"
      ],
      "execution_count": null,
      "outputs": []
    },
    {
      "cell_type": "code",
      "metadata": {
        "id": "FEFVWSpwdJHn"
      },
      "source": [
        "def predict_affinity(smiles, fasta):\n",
        "\n",
        "    smiles_in = []\n",
        "    for element in smiles:\n",
        "        smiles_in.append(smiles_to_int[element])\n",
        "    while(len(smiles_in)!=max_smiles): \n",
        "        smiles_in.append(0)\n",
        "\n",
        "    fasta_in = []\n",
        "    for amino in fasta:\n",
        "        fasta_in.append(amino_to_int[amino])\n",
        "    while(len(fasta_in)!=max_fasta): \n",
        "        fasta_in.append(0)\n",
        "\n",
        "    return model.predict({'smiles_input': np.array(smiles_in).reshape(1, max_smiles,), \n",
        "                          'fasta_input': np.array(fasta_in).reshape(1, max_fasta,)})[0][0]"
      ],
      "execution_count": null,
      "outputs": []
    },
    {
      "cell_type": "code",
      "metadata": {
        "id": "yufszm3cCpvU"
      },
      "source": [
        "idx = 0\n",
        "compound = valid.iloc[idx].smiles\n",
        "protein = valid.iloc[idx].fasta\n",
        "print(compound)\n",
        "print(protein)\n",
        "print(predict_affinity(compound, protein))\n",
        "print(valid.iloc[idx].standard_value)"
      ],
      "execution_count": null,
      "outputs": []
    },
    {
      "cell_type": "code",
      "metadata": {
        "id": "98QWriw9RwQB"
      },
      "source": [
        ""
      ],
      "execution_count": null,
      "outputs": []
    }
  ]
}