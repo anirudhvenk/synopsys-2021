{
 "cells": [
  {
   "cell_type": "code",
   "execution_count": 1,
   "metadata": {},
   "outputs": [],
   "source": [
    "from generationRNN.generate_molecules import GenerateMolecules\n",
    "from affinityCNN.predict_affinity import AffinityPrediction\n",
    "from rdkit import Chem\n",
    "import numpy as np\n",
    "from molCombiner.mol_comb import MolComb\n",
    "import os\n",
    "import sys"
   ]
  },
  {
   "cell_type": "code",
   "execution_count": 2,
   "metadata": {},
   "outputs": [],
   "source": [
    "def progressbar(it, prefix=\"\", size=60, file=sys.stdout):\n",
    "    count = len(it)\n",
    "    def show(j):\n",
    "        x = int(size*j/count)\n",
    "        file.write(\"%s[%s%s] %i/%i\\r\" % (prefix, \"#\"*x, \".\"*(size-x), j, count))\n",
    "        file.flush()        \n",
    "    show(0)\n",
    "    for i, item in enumerate(it):\n",
    "        yield item\n",
    "        show(i+1)\n",
    "    file.write(\"\\n\")\n",
    "    file.flush()"
   ]
  },
  {
   "cell_type": "code",
   "execution_count": 3,
   "metadata": {},
   "outputs": [],
   "source": [
    "fasta = \"MAQTQGTKRKVCYYYDGDVGNYYYGQGHPMKPHRIRMTHNLLLNYGLYRKMEIYRPHKANAEEMTKYHSDDYIKFLRSIRPDNMSEYSKQMQRFNVGEDCPVFDGLFEFCQLSTGGSVASAVKLNKQQTDIAVNWAGGLHHAKKSEASGFCYVNDIVLAILELLKYHQRVLYIDIDIHHGDGVEEAFYTTDRVMTVSFHKYGEYFPGTGDLRDIGAGKGKYYAVNYPLRDGIDDESYEAIFKPVMSKVMEMFQPSAVVLQCGSDSLSGDRLGCFNLTIKGHAKCVEFVKSFNLPMLMLGGGGYTIRNVARCWTYETAVALDTEIPNELPYNDYFEYFGPDFKLHISPSNMTNQNTNEYLEKIKQRLFENLRMLPHAPGVQMQAIPEDAIPEESGDEDEEDPDKRISICSSDKRIACEEEFSDSDEEGEGGRKNSSNFKKAKRVKTEDEKEKDPEEKKEVTEEEKTKEEKPEAKGVKEEVKLA\"\n",
    "comb = MolComb(fasta)\n",
    "fitness = np.vectorize(lambda mol: comb.get_affinity(mol))"
   ]
  },
  {
   "cell_type": "code",
   "execution_count": 4,
   "metadata": {},
   "outputs": [],
   "source": [
    "raw_data = np.load(\"molecules.npy\")\n",
    "smiles = []\n",
    "for mol in raw_data:\n",
    "    smiles.append(mol.replace('/', \"\").replace('@', \"\").replace('\\\\', \"\").replace('.', \"\"))\n",
    "raw_data = smiles\n",
    "k = 500\n",
    "pop = np.array(raw_data[:k], dtype=\"object\")"
   ]
  },
  {
   "cell_type": "code",
   "execution_count": 5,
   "metadata": {},
   "outputs": [],
   "source": [
    "def remove_zeros(pop, f):\n",
    "    f_pop = np.column_stack((pop, f))\n",
    "    new_pop = (f_pop[f_pop[:, 1]!=0])[:, 0]\n",
    "    new_f = (f_pop[f_pop[:, 1]!=0])[:, 1]\n",
    "    return(new_pop, new_f)"
   ]
  },
  {
   "cell_type": "code",
   "execution_count": null,
   "metadata": {},
   "outputs": [
    {
     "name": "stdout",
     "output_type": "stream",
     "text": [
      "Starting generation 1\n",
      "Removing garbage values...\n",
      "['0.0' '1.0' '20.668718338012695'\n",
      " 'CC(C)[CH]1CCCCN1C(=O)[CH](C)OC(=O)C(=O)Nc1ccc(Br)cc1']\n",
      "8622.64667660141\n",
      "Computing children[########################################] 500/500\n",
      "Starting generation 2\n",
      "Removing garbage values...\n",
      "['0.0' '1.0' '20.668718338012695'\n",
      " 'CC(C)[CH]1CCCCN1C(=O)[CH](C)OC(=O)C(=O)Nc1ccc(Br)cc1'\n",
      " '20.668718338012695'\n",
      " 'CC(C)[CH]1CCCCN1C(=O)[CH](C)OC(=O)C(=O)Nc1ccc(Br)cc1']\n",
      "1252.8075384765502\n",
      "Computing children[########################################] 494/494\n",
      "Starting generation 3\n",
      "Removing garbage values...\n",
      "['0.0' '1.0' '20.668718338012695'\n",
      " 'CC(C)[CH]1CCCCN1C(=O)[CH](C)OC(=O)C(=O)Nc1ccc(Br)cc1'\n",
      " '20.668718338012695'\n",
      " 'CC(C)[CH]1CCCCN1C(=O)[CH](C)OC(=O)C(=O)Nc1ccc(Br)cc1'\n",
      " '20.668718338012695'\n",
      " 'CCC(=O)Nc1cc(C)nc(C2CCN(c3ncc(C(N)=O)c(NC4CCNCC4)c3C(N)=O)CC2)c1[N+](=O)[O-]']\n",
      "326.7602217843236\n",
      "Computing children[########################################] 491/491\n",
      "Starting generation 4\n",
      "Removing garbage values...\n",
      "['0.0' '1.0' '20.668718338012695'\n",
      " 'CC(C)[CH]1CCCCN1C(=O)[CH](C)OC(=O)C(=O)Nc1ccc(Br)cc1'\n",
      " '20.668718338012695'\n",
      " 'CC(C)[CH]1CCCCN1C(=O)[CH](C)OC(=O)C(=O)Nc1ccc(Br)cc1'\n",
      " '20.668718338012695'\n",
      " 'CCC(=O)Nc1cc(C)nc(C2CCN(c3ncc(C(N)=O)c(NC4CCNCC4)c3C(N)=O)CC2)c1[N+](=O)[O-]'\n",
      " '20.668718338012695'\n",
      " 'CC(C)[CH]1CCCCN1C(=O)[CH](C)OC(=O)C(=O)Nc1ccc(Br)cc1']\n",
      "161.38120473771983\n",
      "Computing children[########################################] 489/489\n",
      "Starting generation 5\n",
      "Removing garbage values...\n",
      "['0.0' '1.0' '20.668718338012695'\n",
      " 'CC(C)[CH]1CCCCN1C(=O)[CH](C)OC(=O)C(=O)Nc1ccc(Br)cc1'\n",
      " '20.668718338012695'\n",
      " 'CC(C)[CH]1CCCCN1C(=O)[CH](C)OC(=O)C(=O)Nc1ccc(Br)cc1'\n",
      " '20.668718338012695'\n",
      " 'CCC(=O)Nc1cc(C)nc(C2CCN(c3ncc(C(N)=O)c(NC4CCNCC4)c3C(N)=O)CC2)c1[N+](=O)[O-]'\n",
      " '20.668718338012695'\n",
      " 'CC(C)[CH]1CCCCN1C(=O)[CH](C)OC(=O)C(=O)Nc1ccc(Br)cc1'\n",
      " '20.668718338012695'\n",
      " 'CC(C)[CH]1CCCCN1C(=O)[CH](C)OC(=O)C(=O)Nc1ccc(Br)cc1']\n",
      "92.53398411210573\n",
      "Computing children[######################################..] 465/489\r"
     ]
    }
   ],
   "source": [
    "history = np.empty((1,2))\n",
    "gen = 1\n",
    "while True:\n",
    "    print(\"Starting generation \" + str(gen))\n",
    "    f = fitness(pop)\n",
    "    print(\"Removing garbage values...\")\n",
    "    pop, f = remove_zeros(pop, f)\n",
    "    \n",
    "    bestf = np.array([f.min(), pop[f.argmin()]])\n",
    "    history = np.append(history, bestf)\n",
    "    \n",
    "    print(history)\n",
    "    print(f.mean())\n",
    "    p = np.array((f.max() - f)**2 / ((f.max() - f)**2).sum(), dtype=\"float64\")\n",
    "    parents = np.random.choice(pop, size=(len(pop),2), p=p)\n",
    "#     print(parents.shape)\n",
    "#     print(parents)\n",
    "    \n",
    "    nextpop = []\n",
    "    for row in progressbar(parents, \"Computing children\", 40):\n",
    "        max_parent = max(comb.get_affinity(row[0]), comb.get_affinity(row[1]))\n",
    "        combined = comb.combine(row[0], row[1])\n",
    "        if (comb.get_affinity(combined) > max_parent):\n",
    "            min_parent = min(row[0], row[1], key=lambda mol: comb.get_affinity(mol))\n",
    "            nextpop.append(min_parent)\n",
    "        else:\n",
    "            nextpop.append(combined)\n",
    "\n",
    "    \n",
    "    pop = np.array(nextpop, dtype=\"object\")\n",
    "#     print(pop)\n",
    "    gen = gen+1"
   ]
  }
 ],
 "metadata": {
  "kernelspec": {
   "display_name": "synopsys2021env",
   "language": "python",
   "name": "synopsys2021env"
  },
  "language_info": {
   "codemirror_mode": {
    "name": "ipython",
    "version": 3
   },
   "file_extension": ".py",
   "mimetype": "text/x-python",
   "name": "python",
   "nbconvert_exporter": "python",
   "pygments_lexer": "ipython3",
   "version": "3.7.9"
  }
 },
 "nbformat": 4,
 "nbformat_minor": 4
}
