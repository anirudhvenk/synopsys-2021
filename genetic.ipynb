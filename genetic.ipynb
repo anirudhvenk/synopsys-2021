{
 "cells": [
  {
   "cell_type": "code",
   "execution_count": 2,
   "metadata": {},
   "outputs": [],
   "source": [
    "from generationRNN.generate_molecules import GenerateMolecules\n",
    "from affinityCNN.predict_affinity import AffinityPrediction\n",
    "from rdkit import Chem\n",
    "import numpy as np\n",
    "from molCombiner.mol_comb import MolComb\n",
    "import os"
   ]
  },
  {
   "cell_type": "code",
   "execution_count": 20,
   "metadata": {},
   "outputs": [],
   "source": [
    "fasta = \"MSRPPPTGKMPGAPETAPGDGAGASRQRKLEALIRDPRSPINVESLLDGLNSLVLDLDFPALRKNKNIDNFLNRYEKIVKKIRGLQMKAEDYDVVKVIGRGAFGEVQLVRHKASQKVYAMKLLSKFEMIKRSDSAFFWEERDIMAFANSPWVVQLFYAFQDDRYLYMVMEYMPGGDLVNLMSNYDVPEKWAKFYTAEVVLALDAIHSMGLIHRDVKPDNMLLDKHGHLKLADFGTCMKMDETGMVHCDTAVGTPDYISPEVLKSQGGDGFYGRECDWWSVGVFLYEMLVGDTPFYADSLVGTYSKIMDHKNSLCFPEDAEISKHAKNLICAFLTDREVRLGRNGVEEIRQHPFFKNDQWHWDNIRETAAPVVPELSSDIDSSNFDDIEDDKGDVETFPIPKAFVGNQLPFIGFTYYRENLLLSDSPSCRENDSIQSRKNEESQEIQKKLYTLEEHLSNEMQAKEELEQKCKSVNTRLEKTAKELEEEITLRKSVESALRQLEREKALLQHKNAEYQRKADHEADKKRNLENDVNSLKDQLEDL\"\n",
    "comb = MolComb(fasta)\n",
    "fitness = np.vectorize(lambda mol: comb.get_affinity(mol))"
   ]
  },
  {
   "cell_type": "code",
   "execution_count": 5,
   "metadata": {},
   "outputs": [],
   "source": [
    "with open('generationRNN/data/100k_SMILES.txt') as f:\n",
    "    raw_text = f.read()\n",
    "raw_data = np.array(raw_text.split(\"\\n\"))\n",
    "smiles = []\n",
    "for mol in raw_data:\n",
    "    smiles.append(mol.replace('/', \"\").replace('@', \"\").replace('\\\\', \"\").replace('.', \"\"))\n",
    "raw_data = smiles\n",
    "k = 10\n",
    "pop = np.array(raw_data[:k])"
   ]
  },
  {
   "cell_type": "code",
   "execution_count": 6,
   "metadata": {
    "scrolled": true
   },
   "outputs": [
    {
     "name": "stdout",
     "output_type": "stream",
     "text": [
      "Getting fitness\n",
      "['0.0' '1.0' '53.72521209716797'\n",
      " 'CCOC(=O)[CH]1CCCN(C(=O)c2nc(-c3ccc(C)cc3)n3c2CCCCC3)C1']\n",
      "540.8024612426758\n",
      "Combining molecules\n",
      "Predicting cddd representations...\n",
      "Decoding predicted cddd representations...\n",
      "['Cc1ccc(-c2nc(C=O)c(SC3=C(C=O)CCCCC3(C=O)C3CCCCCC3C#N)n2CC#N)cc1']\n",
      "Predicting cddd representations...\n",
      "Decoding predicted cddd representations...\n",
      "['N#Cc1ccc(C(Oc2ccc(C3CCCCN3)cc2)c2ccccc2)cc1']\n",
      "Predicting cddd representations...\n",
      "Decoding predicted cddd representations...\n",
      "['Cn1ccc(C(Oc2ccc(C=O)c(C(C=O)c3ccccc3)c2)c2ccc(C=O)cc2)c1']\n",
      "Predicting cddd representations...\n",
      "Decoding predicted cddd representations...\n",
      "['CC(=CSc1nc(C#N)cs1)C1(C#N)CC(NC(C)=O)CCCC1C#N']\n",
      "Predicting cddd representations...\n",
      "Decoding predicted cddd representations...\n",
      "['N#CC1=C(SCc2ccccc2)N(CC(N)=O)C2(CCCCC2)N=C1Cl']\n",
      "Predicting cddd representations...\n",
      "Decoding predicted cddd representations...\n",
      "['Cc1ccc(-c2nc(C3CCCCNC3C)n3c2CCCCC3)cc1']\n",
      "Predicting cddd representations...\n",
      "Decoding predicted cddd representations...\n",
      "['Cn1cc(C=O)c(COc2ccc(C=O)cc2C(C)(C)C)c1Br']\n",
      "Getting fitness\n",
      "['0.0' '1.0' '53.72521209716797'\n",
      " 'CCOC(=O)[CH]1CCCN(C(=O)c2nc(-c3ccc(C)cc3)n3c2CCCCC3)C1'\n",
      " '35.119441986083984'\n",
      " 'Cc1ccc(-c2nc(C=O)c(SC3=C(C=O)CCCCC3(C=O)C3CCCCCC3C#N)n2CC#N)cc1']\n",
      "177.15518074035646\n"
     ]
    }
   ],
   "source": [
    "history = np.empty((1,2))\n",
    "while True:\n",
    "    print(\"Getting fitness\")\n",
    "    f = fitness(pop)\n",
    "    bestf = np.array([f.min(), pop[f.argmin()]])\n",
    "    history = np.append(history, bestf)\n",
    "    \n",
    "    print(history)\n",
    "    print(f.mean())\n",
    "    \n",
    "    if (f.min() < 50):\n",
    "        break\n",
    "    \n",
    "    p = (f.max() - f)**2 / ((f.max() - f)**2).sum()\n",
    "    parents = np.random.choice(pop, size=(k,2), p=p)\n",
    "\n",
    "    print(\"Combining molecules\")\n",
    "    pop = np.apply_along_axis(lambda row: comb.combine(row[0], row[1]), axis=1, arr=parents).flatten()"
   ]
  },
  {
   "cell_type": "code",
   "execution_count": null,
   "metadata": {},
   "outputs": [],
   "source": [
    "%%time\n",
    "fitness(pop[0])"
   ]
  },
  {
   "cell_type": "code",
   "execution_count": null,
   "metadata": {},
   "outputs": [],
   "source": [
    "\"C[CH]1CN(C(=O)c2cc(Br)cn2C)CC[CH]1[NH3]\" in raw_data"
   ]
  },
  {
   "cell_type": "code",
   "execution_count": 7,
   "metadata": {},
   "outputs": [
    {
     "name": "stdout",
     "output_type": "stream",
     "text": [
      "CPU times: user 2.25 s, sys: 233 ms, total: 2.49 s\n",
      "Wall time: 2.58 s\n"
     ]
    }
   ],
   "source": [
    "%%time\n",
    "f = fitness(pop)"
   ]
  },
  {
   "cell_type": "code",
   "execution_count": 9,
   "metadata": {},
   "outputs": [],
   "source": [
    "test_pop = raw_data[:4]"
   ]
  },
  {
   "cell_type": "code",
   "execution_count": 10,
   "metadata": {},
   "outputs": [
    {
     "data": {
      "text/plain": [
       "['CC(C)(C)c1ccc2occ(CC(=O)Nc3ccccc3F)c2c1',\n",
       " 'C[CH]1CC(Nc2cncc(-c3nncn3C)c2)C[CH](C)C1',\n",
       " 'N#Cc1ccc(-c2ccc(O[CH](C(=O)N3CCCC3)c3ccccc3)cc2)cc1',\n",
       " 'CCOC(=O)[CH]1CCCN(C(=O)c2nc(-c3ccc(C)cc3)n3c2CCCCC3)C1']"
      ]
     },
     "execution_count": 10,
     "metadata": {},
     "output_type": "execute_result"
    }
   ],
   "source": [
    "test_pop"
   ]
  },
  {
   "cell_type": "code",
   "execution_count": 16,
   "metadata": {},
   "outputs": [],
   "source": [
    "from multiprocessing import Pool"
   ]
  },
  {
   "cell_type": "code",
   "execution_count": 14,
   "metadata": {},
   "outputs": [
    {
     "data": {
      "text/plain": [
       "['CC(C)(C)c1ccc2occ(CC(=O)Nc3ccccc3F)c2c1',\n",
       " 'C[CH]1CC(Nc2cncc(-c3nncn3C)c2)C[CH](C)C1',\n",
       " 'N#Cc1ccc(-c2ccc(O[CH](C(=O)N3CCCC3)c3ccccc3)cc2)cc1',\n",
       " 'CCOC(=O)[CH]1CCCN(C(=O)c2nc(-c3ccc(C)cc3)n3c2CCCCC3)C1']"
      ]
     },
     "execution_count": 14,
     "metadata": {},
     "output_type": "execute_result"
    }
   ],
   "source": [
    "test_pop"
   ]
  },
  {
   "cell_type": "code",
   "execution_count": 27,
   "metadata": {},
   "outputs": [],
   "source": [
    "def test_func(mol):\n",
    "    return(comb.get_affinity(mol))"
   ]
  },
  {
   "cell_type": "code",
   "execution_count": 30,
   "metadata": {},
   "outputs": [],
   "source": [
    "p = Pool()\n",
    "result = p.map(test_func, test_pop[0])\n",
    "p.close()\n",
    "p.join()"
   ]
  },
  {
   "cell_type": "code",
   "execution_count": 26,
   "metadata": {},
   "outputs": [
    {
     "data": {
      "text/plain": [
       "['CC(C)(C)c1ccc2occ(CC(=O)Nc3ccccc3F)c2c1',\n",
       " 'C[CH]1CC(Nc2cncc(-c3nncn3C)c2)C[CH](C)C1',\n",
       " 'N#Cc1ccc(-c2ccc(O[CH](C(=O)N3CCCC3)c3ccccc3)cc2)cc1',\n",
       " 'CCOC(=O)[CH]1CCCN(C(=O)c2nc(-c3ccc(C)cc3)n3c2CCCCC3)C1']"
      ]
     },
     "execution_count": 26,
     "metadata": {},
     "output_type": "execute_result"
    }
   ],
   "source": [
    "result"
   ]
  },
  {
   "cell_type": "code",
   "execution_count": 22,
   "metadata": {},
   "outputs": [
    {
     "name": "stdout",
     "output_type": "stream",
     "text": [
      "CPU times: user 223 ms, sys: 61.4 ms, total: 284 ms\n",
      "Wall time: 292 ms\n"
     ]
    },
    {
     "data": {
      "text/plain": [
       "310.0136413574219"
      ]
     },
     "execution_count": 22,
     "metadata": {},
     "output_type": "execute_result"
    }
   ],
   "source": [
    "%%time\n",
    "fitness(raw_data[0])"
   ]
  },
  {
   "cell_type": "code",
   "execution_count": null,
   "metadata": {},
   "outputs": [],
   "source": []
  }
 ],
 "metadata": {
  "kernelspec": {
   "display_name": "synopsys2021env",
   "language": "python",
   "name": "synopsys2021env"
  },
  "language_info": {
   "codemirror_mode": {
    "name": "ipython",
    "version": 3
   },
   "file_extension": ".py",
   "mimetype": "text/x-python",
   "name": "python",
   "nbconvert_exporter": "python",
   "pygments_lexer": "ipython3",
   "version": "3.7.9"
  }
 },
 "nbformat": 4,
 "nbformat_minor": 4
}
